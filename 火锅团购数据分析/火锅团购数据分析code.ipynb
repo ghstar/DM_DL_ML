{
 "cells": [
  {
   "cell_type": "markdown",
   "metadata": {},
   "source": [
    "# 火锅团购数据分析  —— 何数学"
   ]
  },
  {
   "cell_type": "code",
   "execution_count": 578,
   "metadata": {},
   "outputs": [],
   "source": [
    "import pandas as pd\n",
    "import numpy as np\n",
    "import matplotlib.pyplot as plt\n",
    "import seaborn as sns\n",
    "from imageio import imread\n",
    "from wordcloud import WordCloud\n",
    "import statsmodels.api as sm\n",
    "from statsmodels.regression.linear_model import OLS \n",
    "import warnings\n",
    "warnings.filterwarnings('ignore')\n",
    "# from statsmodels.formula.api import ols"
   ]
  },
  {
   "cell_type": "markdown",
   "metadata": {},
   "source": [
    "## >>> Q1：数据读入与预处理"
   ]
  },
  {
   "cell_type": "markdown",
   "metadata": {},
   "source": [
    "**数据读入：**"
   ]
  },
  {
   "cell_type": "code",
   "execution_count": 698,
   "metadata": {
    "scrolled": true
   },
   "outputs": [
    {
     "data": {
      "text/html": [
       "<div>\n",
       "<style scoped>\n",
       "    .dataframe tbody tr th:only-of-type {\n",
       "        vertical-align: middle;\n",
       "    }\n",
       "\n",
       "    .dataframe tbody tr th {\n",
       "        vertical-align: top;\n",
       "    }\n",
       "\n",
       "    .dataframe thead th {\n",
       "        text-align: right;\n",
       "    }\n",
       "</style>\n",
       "<table border=\"1\" class=\"dataframe\">\n",
       "  <thead>\n",
       "    <tr style=\"text-align: right;\">\n",
       "      <th></th>\n",
       "      <th>ID</th>\n",
       "      <th>字段1</th>\n",
       "      <th>字段2</th>\n",
       "      <th>discount</th>\n",
       "      <th>price</th>\n",
       "      <th>privilege.for.new</th>\n",
       "      <th>privilege.on.sale</th>\n",
       "      <th>district</th>\n",
       "      <th>if.nonworkdays.available</th>\n",
       "      <th>time.duration</th>\n",
       "      <th>...</th>\n",
       "      <th>quarterly.sales.volume</th>\n",
       "      <th>level.of.participants.limited</th>\n",
       "      <th>level.of.tickets.limited</th>\n",
       "      <th>place</th>\n",
       "      <th>food</th>\n",
       "      <th>taste</th>\n",
       "      <th>cook</th>\n",
       "      <th>people</th>\n",
       "      <th>style</th>\n",
       "      <th>HighFreq</th>\n",
       "    </tr>\n",
       "  </thead>\n",
       "  <tbody>\n",
       "    <tr>\n",
       "      <td>0</td>\n",
       "      <td>1</td>\n",
       "      <td>巴蜀大魏道火锅(高新路店)</td>\n",
       "      <td>仅售308元，价值372元6人餐！免费WiFi节假日通用，可使用包间！</td>\n",
       "      <td>0.827957</td>\n",
       "      <td>308.0</td>\n",
       "      <td>钱包新客最高再减20元</td>\n",
       "      <td>无立减优惠</td>\n",
       "      <td>高新区</td>\n",
       "      <td>周末法定节假日通用</td>\n",
       "      <td>24.0</td>\n",
       "      <td>...</td>\n",
       "      <td>5.416667</td>\n",
       "      <td>不限人数</td>\n",
       "      <td>不限张数</td>\n",
       "      <td>是</td>\n",
       "      <td>否</td>\n",
       "      <td>否</td>\n",
       "      <td>否</td>\n",
       "      <td>否</td>\n",
       "      <td>川系</td>\n",
       "      <td>2</td>\n",
       "    </tr>\n",
       "    <tr>\n",
       "      <td>1</td>\n",
       "      <td>10</td>\n",
       "      <td>宽窄巷子火锅</td>\n",
       "      <td>仅售79.9元，价值100元代金券！可使用包间，免费停车，免费WiFi！</td>\n",
       "      <td>0.799000</td>\n",
       "      <td>79.9</td>\n",
       "      <td>钱包新客最高再减20元</td>\n",
       "      <td>无立减优惠</td>\n",
       "      <td>高新区</td>\n",
       "      <td>周末法定节假日通用</td>\n",
       "      <td>12.0</td>\n",
       "      <td>...</td>\n",
       "      <td>1874.198473</td>\n",
       "      <td>不限人数</td>\n",
       "      <td>不限张数</td>\n",
       "      <td>否</td>\n",
       "      <td>否</td>\n",
       "      <td>否</td>\n",
       "      <td>否</td>\n",
       "      <td>否</td>\n",
       "      <td>川系</td>\n",
       "      <td>1</td>\n",
       "    </tr>\n",
       "    <tr>\n",
       "      <td>2</td>\n",
       "      <td>100</td>\n",
       "      <td>重庆鼻祖老火锅</td>\n",
       "      <td>仅售90元，价值100元代金券！可叠加使用，免费WiFi，可使用包间，免费WiFi！</td>\n",
       "      <td>0.900000</td>\n",
       "      <td>90.0</td>\n",
       "      <td>钱包新客最高再减20元</td>\n",
       "      <td>无立减优惠</td>\n",
       "      <td>雁塔区</td>\n",
       "      <td>非周末法定节假日通用</td>\n",
       "      <td>11.0</td>\n",
       "      <td>...</td>\n",
       "      <td>466.758621</td>\n",
       "      <td>不限人数</td>\n",
       "      <td>不限张数</td>\n",
       "      <td>是</td>\n",
       "      <td>否</td>\n",
       "      <td>否</td>\n",
       "      <td>否</td>\n",
       "      <td>否</td>\n",
       "      <td>川系</td>\n",
       "      <td>3</td>\n",
       "    </tr>\n",
       "    <tr>\n",
       "      <td>3</td>\n",
       "      <td>1000</td>\n",
       "      <td>六婆串串香火锅(凤城一路店)</td>\n",
       "      <td>仅售1元，价值12元凤城一路店大签30个！节假日通用，提供免费WiFi，免费WiFi！</td>\n",
       "      <td>0.083333</td>\n",
       "      <td>1.0</td>\n",
       "      <td>钱包新客最高再减20元</td>\n",
       "      <td>无立减优惠</td>\n",
       "      <td>未央区</td>\n",
       "      <td>周末法定节假日通用</td>\n",
       "      <td>10.0</td>\n",
       "      <td>...</td>\n",
       "      <td>2.241993</td>\n",
       "      <td>不限人数</td>\n",
       "      <td>不限张数</td>\n",
       "      <td>否</td>\n",
       "      <td>否</td>\n",
       "      <td>是</td>\n",
       "      <td>否</td>\n",
       "      <td>是</td>\n",
       "      <td>川系</td>\n",
       "      <td>4</td>\n",
       "    </tr>\n",
       "    <tr>\n",
       "      <td>4</td>\n",
       "      <td>1001</td>\n",
       "      <td>辣尚仙焖锅</td>\n",
       "      <td>仅售68元，最高价值128元咸宁中路店双人菌类套餐！?</td>\n",
       "      <td>0.531250</td>\n",
       "      <td>68.0</td>\n",
       "      <td>钱包新客最高再减20元</td>\n",
       "      <td>无立减优惠</td>\n",
       "      <td>新城区</td>\n",
       "      <td>非周末法定节假日通用</td>\n",
       "      <td>11.0</td>\n",
       "      <td>...</td>\n",
       "      <td>6.443418</td>\n",
       "      <td>限2-4人</td>\n",
       "      <td>不限张数</td>\n",
       "      <td>否</td>\n",
       "      <td>否</td>\n",
       "      <td>是</td>\n",
       "      <td>是</td>\n",
       "      <td>否</td>\n",
       "      <td>川系</td>\n",
       "      <td>4</td>\n",
       "    </tr>\n",
       "  </tbody>\n",
       "</table>\n",
       "<p>5 rows × 27 columns</p>\n",
       "</div>"
      ],
      "text/plain": [
       "     ID             字段1                                          字段2  \\\n",
       "0     1   巴蜀大魏道火锅(高新路店)          仅售308元，价值372元6人餐！免费WiFi节假日通用，可使用包间！   \n",
       "1    10          宽窄巷子火锅         仅售79.9元，价值100元代金券！可使用包间，免费停车，免费WiFi！   \n",
       "2   100         重庆鼻祖老火锅   仅售90元，价值100元代金券！可叠加使用，免费WiFi，可使用包间，免费WiFi！   \n",
       "3  1000  六婆串串香火锅(凤城一路店)  仅售1元，价值12元凤城一路店大签30个！节假日通用，提供免费WiFi，免费WiFi！   \n",
       "4  1001           辣尚仙焖锅                  仅售68元，最高价值128元咸宁中路店双人菌类套餐！?   \n",
       "\n",
       "   discount  price privilege.for.new privilege.on.sale district  \\\n",
       "0  0.827957  308.0       钱包新客最高再减20元             无立减优惠      高新区   \n",
       "1  0.799000   79.9       钱包新客最高再减20元             无立减优惠      高新区   \n",
       "2  0.900000   90.0       钱包新客最高再减20元             无立减优惠      雁塔区   \n",
       "3  0.083333    1.0       钱包新客最高再减20元             无立减优惠      未央区   \n",
       "4  0.531250   68.0       钱包新客最高再减20元             无立减优惠      新城区   \n",
       "\n",
       "  if.nonworkdays.available  time.duration  ... quarterly.sales.volume  \\\n",
       "0                周末法定节假日通用           24.0  ...               5.416667   \n",
       "1                周末法定节假日通用           12.0  ...            1874.198473   \n",
       "2               非周末法定节假日通用           11.0  ...             466.758621   \n",
       "3                周末法定节假日通用           10.0  ...               2.241993   \n",
       "4               非周末法定节假日通用           11.0  ...               6.443418   \n",
       "\n",
       "  level.of.participants.limited level.of.tickets.limited place  food  taste  \\\n",
       "0                          不限人数                     不限张数     是     否      否   \n",
       "1                          不限人数                     不限张数     否     否      否   \n",
       "2                          不限人数                     不限张数     是     否      否   \n",
       "3                          不限人数                     不限张数     否     否      是   \n",
       "4                         限2-4人                     不限张数     否     否      是   \n",
       "\n",
       "   cook  people style HighFreq  \n",
       "0     否       否    川系        2  \n",
       "1     否       否    川系        1  \n",
       "2     否       否    川系        3  \n",
       "3     否       是    川系        4  \n",
       "4     是       否    川系        4  \n",
       "\n",
       "[5 rows x 27 columns]"
      ]
     },
     "execution_count": 698,
     "metadata": {},
     "output_type": "execute_result"
    }
   ],
   "source": [
    "data = pd.read_csv(r'.\\HotPot.csv')\n",
    "data.head()"
   ]
  },
  {
   "cell_type": "code",
   "execution_count": 672,
   "metadata": {
    "scrolled": true
   },
   "outputs": [
    {
     "data": {
      "text/plain": [
       "Index(['ID', '字段1', '字段2', 'discount', 'price', 'privilege.for.new',\n",
       "       'privilege.on.sale', 'district', 'if.nonworkdays.available',\n",
       "       'time.duration', 'if.appointment.needed', 'WiFi.available', 'parking',\n",
       "       'rooms.available', '评分', '评论数', 'online.intervel',\n",
       "       'quarterly.sales.volume', 'level.of.participants.limited',\n",
       "       'level.of.tickets.limited', 'place', 'food', 'taste', 'cook', 'people',\n",
       "       'style', 'HighFreq'],\n",
       "      dtype='object')"
      ]
     },
     "execution_count": 672,
     "metadata": {},
     "output_type": "execute_result"
    }
   ],
   "source": [
    "# 查看列名\n",
    "data.columns"
   ]
  },
  {
   "cell_type": "markdown",
   "metadata": {},
   "source": [
    "**检查是否有缺失值：**"
   ]
  },
  {
   "cell_type": "code",
   "execution_count": 673,
   "metadata": {},
   "outputs": [
    {
     "data": {
      "text/plain": [
       "ID                               False\n",
       "字段1                              False\n",
       "字段2                              False\n",
       "discount                         False\n",
       "price                            False\n",
       "privilege.for.new                False\n",
       "privilege.on.sale                False\n",
       "district                         False\n",
       "if.nonworkdays.available         False\n",
       "time.duration                    False\n",
       "if.appointment.needed            False\n",
       "WiFi.available                   False\n",
       "parking                          False\n",
       "rooms.available                  False\n",
       "评分                               False\n",
       "评论数                              False\n",
       "online.intervel                  False\n",
       "quarterly.sales.volume           False\n",
       "level.of.participants.limited    False\n",
       "level.of.tickets.limited         False\n",
       "place                            False\n",
       "food                             False\n",
       "taste                            False\n",
       "cook                             False\n",
       "people                           False\n",
       "style                            False\n",
       "HighFreq                         False\n",
       "dtype: bool"
      ]
     },
     "execution_count": 673,
     "metadata": {},
     "output_type": "execute_result"
    }
   ],
   "source": [
    "data.isnull().any()"
   ]
  },
  {
   "cell_type": "markdown",
   "metadata": {},
   "source": [
    "**无缺失值。**"
   ]
  },
  {
   "cell_type": "markdown",
   "metadata": {},
   "source": [
    "**后期想算团购套餐人均价格，因此按照level.of.participants.limited，粗略估计人数：**  \n",
    "\n",
    "**'不限人数':6, '限1人':1, '限2-4人':3, '限5-12人':8**"
   ]
  },
  {
   "cell_type": "code",
   "execution_count": 674,
   "metadata": {},
   "outputs": [],
   "source": [
    "data['num_people'] = data['level.of.participants.limited'].map( \n",
    "    {'不限人数':6, '限1人':1, '限2-4人':3, '限5-12人':8} )\n",
    "data['price_per_person'] = data['price'] / data['num_people']"
   ]
  },
  {
   "cell_type": "code",
   "execution_count": 675,
   "metadata": {},
   "outputs": [
    {
     "data": {
      "text/html": [
       "<div>\n",
       "<style scoped>\n",
       "    .dataframe tbody tr th:only-of-type {\n",
       "        vertical-align: middle;\n",
       "    }\n",
       "\n",
       "    .dataframe tbody tr th {\n",
       "        vertical-align: top;\n",
       "    }\n",
       "\n",
       "    .dataframe thead th {\n",
       "        text-align: right;\n",
       "    }\n",
       "</style>\n",
       "<table border=\"1\" class=\"dataframe\">\n",
       "  <thead>\n",
       "    <tr style=\"text-align: right;\">\n",
       "      <th></th>\n",
       "      <th>price</th>\n",
       "      <th>level.of.participants.limited</th>\n",
       "      <th>num_people</th>\n",
       "      <th>price_per_person</th>\n",
       "    </tr>\n",
       "  </thead>\n",
       "  <tbody>\n",
       "    <tr>\n",
       "      <td>0</td>\n",
       "      <td>308.0</td>\n",
       "      <td>不限人数</td>\n",
       "      <td>6</td>\n",
       "      <td>51.333333</td>\n",
       "    </tr>\n",
       "    <tr>\n",
       "      <td>1</td>\n",
       "      <td>79.9</td>\n",
       "      <td>不限人数</td>\n",
       "      <td>6</td>\n",
       "      <td>13.316667</td>\n",
       "    </tr>\n",
       "    <tr>\n",
       "      <td>2</td>\n",
       "      <td>90.0</td>\n",
       "      <td>不限人数</td>\n",
       "      <td>6</td>\n",
       "      <td>15.000000</td>\n",
       "    </tr>\n",
       "    <tr>\n",
       "      <td>3</td>\n",
       "      <td>1.0</td>\n",
       "      <td>不限人数</td>\n",
       "      <td>6</td>\n",
       "      <td>0.166667</td>\n",
       "    </tr>\n",
       "    <tr>\n",
       "      <td>4</td>\n",
       "      <td>68.0</td>\n",
       "      <td>限2-4人</td>\n",
       "      <td>3</td>\n",
       "      <td>22.666667</td>\n",
       "    </tr>\n",
       "  </tbody>\n",
       "</table>\n",
       "</div>"
      ],
      "text/plain": [
       "   price level.of.participants.limited  num_people  price_per_person\n",
       "0  308.0                          不限人数           6         51.333333\n",
       "1   79.9                          不限人数           6         13.316667\n",
       "2   90.0                          不限人数           6         15.000000\n",
       "3    1.0                          不限人数           6          0.166667\n",
       "4   68.0                         限2-4人           3         22.666667"
      ]
     },
     "execution_count": 675,
     "metadata": {},
     "output_type": "execute_result"
    }
   ],
   "source": [
    "data[['price','level.of.participants.limited','num_people','price_per_person']].head()"
   ]
  },
  {
   "cell_type": "code",
   "execution_count": 676,
   "metadata": {},
   "outputs": [
    {
     "data": {
      "text/html": [
       "<div>\n",
       "<style scoped>\n",
       "    .dataframe tbody tr th:only-of-type {\n",
       "        vertical-align: middle;\n",
       "    }\n",
       "\n",
       "    .dataframe tbody tr th {\n",
       "        vertical-align: top;\n",
       "    }\n",
       "\n",
       "    .dataframe thead th {\n",
       "        text-align: right;\n",
       "    }\n",
       "</style>\n",
       "<table border=\"1\" class=\"dataframe\">\n",
       "  <thead>\n",
       "    <tr style=\"text-align: right;\">\n",
       "      <th></th>\n",
       "      <th>ID</th>\n",
       "      <th>discount</th>\n",
       "      <th>price</th>\n",
       "      <th>time.duration</th>\n",
       "      <th>评分</th>\n",
       "      <th>评论数</th>\n",
       "      <th>online.intervel</th>\n",
       "      <th>quarterly.sales.volume</th>\n",
       "      <th>HighFreq</th>\n",
       "      <th>num_people</th>\n",
       "      <th>price_per_person</th>\n",
       "    </tr>\n",
       "  </thead>\n",
       "  <tbody>\n",
       "    <tr>\n",
       "      <td>count</td>\n",
       "      <td>2688.000000</td>\n",
       "      <td>2688.000000</td>\n",
       "      <td>2688.000000</td>\n",
       "      <td>2688.000000</td>\n",
       "      <td>2688.000000</td>\n",
       "      <td>2688.000000</td>\n",
       "      <td>2688.000000</td>\n",
       "      <td>2688.000000</td>\n",
       "      <td>2688.000000</td>\n",
       "      <td>2688.000000</td>\n",
       "      <td>2688.000000</td>\n",
       "    </tr>\n",
       "    <tr>\n",
       "      <td>mean</td>\n",
       "      <td>1548.107143</td>\n",
       "      <td>0.727246</td>\n",
       "      <td>109.735804</td>\n",
       "      <td>10.666877</td>\n",
       "      <td>3.167485</td>\n",
       "      <td>54.494420</td>\n",
       "      <td>341.178199</td>\n",
       "      <td>223.914485</td>\n",
       "      <td>1.924107</td>\n",
       "      <td>5.197545</td>\n",
       "      <td>22.997963</td>\n",
       "    </tr>\n",
       "    <tr>\n",
       "      <td>std</td>\n",
       "      <td>917.819049</td>\n",
       "      <td>0.149995</td>\n",
       "      <td>85.504943</td>\n",
       "      <td>3.253321</td>\n",
       "      <td>2.082107</td>\n",
       "      <td>310.282004</td>\n",
       "      <td>198.869675</td>\n",
       "      <td>1333.456790</td>\n",
       "      <td>1.096484</td>\n",
       "      <td>1.883280</td>\n",
       "      <td>16.511842</td>\n",
       "    </tr>\n",
       "    <tr>\n",
       "      <td>min</td>\n",
       "      <td>1.000000</td>\n",
       "      <td>0.014286</td>\n",
       "      <td>1.000000</td>\n",
       "      <td>0.000000</td>\n",
       "      <td>0.000000</td>\n",
       "      <td>0.000000</td>\n",
       "      <td>1.000000</td>\n",
       "      <td>0.000000</td>\n",
       "      <td>0.000000</td>\n",
       "      <td>1.000000</td>\n",
       "      <td>0.166667</td>\n",
       "    </tr>\n",
       "    <tr>\n",
       "      <td>25%</td>\n",
       "      <td>749.750000</td>\n",
       "      <td>0.637618</td>\n",
       "      <td>68.000000</td>\n",
       "      <td>10.000000</td>\n",
       "      <td>0.000000</td>\n",
       "      <td>0.000000</td>\n",
       "      <td>191.000000</td>\n",
       "      <td>1.414555</td>\n",
       "      <td>1.000000</td>\n",
       "      <td>3.000000</td>\n",
       "      <td>13.166667</td>\n",
       "    </tr>\n",
       "    <tr>\n",
       "      <td>50%</td>\n",
       "      <td>1540.500000</td>\n",
       "      <td>0.763359</td>\n",
       "      <td>86.050000</td>\n",
       "      <td>11.000000</td>\n",
       "      <td>4.400000</td>\n",
       "      <td>3.000000</td>\n",
       "      <td>320.500000</td>\n",
       "      <td>9.440904</td>\n",
       "      <td>2.000000</td>\n",
       "      <td>6.000000</td>\n",
       "      <td>16.500000</td>\n",
       "    </tr>\n",
       "    <tr>\n",
       "      <td>75%</td>\n",
       "      <td>2350.250000</td>\n",
       "      <td>0.850000</td>\n",
       "      <td>135.250000</td>\n",
       "      <td>12.000000</td>\n",
       "      <td>4.700000</td>\n",
       "      <td>22.000000</td>\n",
       "      <td>467.000000</td>\n",
       "      <td>55.794393</td>\n",
       "      <td>3.000000</td>\n",
       "      <td>6.000000</td>\n",
       "      <td>29.333333</td>\n",
       "    </tr>\n",
       "    <tr>\n",
       "      <td>max</td>\n",
       "      <td>3150.000000</td>\n",
       "      <td>0.999000</td>\n",
       "      <td>1365.000000</td>\n",
       "      <td>24.000000</td>\n",
       "      <td>5.000000</td>\n",
       "      <td>8032.000000</td>\n",
       "      <td>1143.000000</td>\n",
       "      <td>25941.428570</td>\n",
       "      <td>6.000000</td>\n",
       "      <td>8.000000</td>\n",
       "      <td>227.500000</td>\n",
       "    </tr>\n",
       "  </tbody>\n",
       "</table>\n",
       "</div>"
      ],
      "text/plain": [
       "                ID     discount        price  time.duration           评分  \\\n",
       "count  2688.000000  2688.000000  2688.000000    2688.000000  2688.000000   \n",
       "mean   1548.107143     0.727246   109.735804      10.666877     3.167485   \n",
       "std     917.819049     0.149995    85.504943       3.253321     2.082107   \n",
       "min       1.000000     0.014286     1.000000       0.000000     0.000000   \n",
       "25%     749.750000     0.637618    68.000000      10.000000     0.000000   \n",
       "50%    1540.500000     0.763359    86.050000      11.000000     4.400000   \n",
       "75%    2350.250000     0.850000   135.250000      12.000000     4.700000   \n",
       "max    3150.000000     0.999000  1365.000000      24.000000     5.000000   \n",
       "\n",
       "               评论数  online.intervel  quarterly.sales.volume     HighFreq  \\\n",
       "count  2688.000000      2688.000000             2688.000000  2688.000000   \n",
       "mean     54.494420       341.178199              223.914485     1.924107   \n",
       "std     310.282004       198.869675             1333.456790     1.096484   \n",
       "min       0.000000         1.000000                0.000000     0.000000   \n",
       "25%       0.000000       191.000000                1.414555     1.000000   \n",
       "50%       3.000000       320.500000                9.440904     2.000000   \n",
       "75%      22.000000       467.000000               55.794393     3.000000   \n",
       "max    8032.000000      1143.000000            25941.428570     6.000000   \n",
       "\n",
       "        num_people  price_per_person  \n",
       "count  2688.000000       2688.000000  \n",
       "mean      5.197545         22.997963  \n",
       "std       1.883280         16.511842  \n",
       "min       1.000000          0.166667  \n",
       "25%       3.000000         13.166667  \n",
       "50%       6.000000         16.500000  \n",
       "75%       6.000000         29.333333  \n",
       "max       8.000000        227.500000  "
      ]
     },
     "execution_count": 676,
     "metadata": {},
     "output_type": "execute_result"
    }
   ],
   "source": [
    "data.describe()"
   ]
  },
  {
   "cell_type": "markdown",
   "metadata": {},
   "source": [
    "**连续变量的总览，可看到取值范围差异非常大，后续需要处理。**"
   ]
  },
  {
   "cell_type": "markdown",
   "metadata": {},
   "source": [
    "**将名义变量转为哑变量：**"
   ]
  },
  {
   "cell_type": "code",
   "execution_count": 677,
   "metadata": {},
   "outputs": [
    {
     "name": "stdout",
     "output_type": "stream",
     "text": [
      "名义变量列表：\n"
     ]
    },
    {
     "data": {
      "text/plain": [
       "['privilege.for.new',\n",
       " 'privilege.on.sale',\n",
       " 'district',\n",
       " 'if.nonworkdays.available',\n",
       " 'if.appointment.needed',\n",
       " 'WiFi.available',\n",
       " 'parking',\n",
       " 'rooms.available',\n",
       " 'level.of.participants.limited',\n",
       " 'level.of.tickets.limited',\n",
       " 'place',\n",
       " 'food',\n",
       " 'taste',\n",
       " 'cook',\n",
       " 'people',\n",
       " 'style']"
      ]
     },
     "execution_count": 677,
     "metadata": {},
     "output_type": "execute_result"
    }
   ],
   "source": [
    "# 名义变量列表，去掉字段1和字段2\n",
    "nominal_list = [x for x in data.columns if x not in data.describe().columns]\n",
    "nominal_list.remove('字段1')\n",
    "nominal_list.remove('字段2')                    \n",
    "print('名义变量列表：')\n",
    "nominal_list"
   ]
  },
  {
   "cell_type": "code",
   "execution_count": 678,
   "metadata": {},
   "outputs": [
    {
     "name": "stdout",
     "output_type": "stream",
     "text": [
      "privilege.for.new ['钱包新客最高再减20元' '无钱包新客优惠']\n",
      "privilege.on.sale ['无立减优惠' '有立减优惠']\n",
      "district ['高新区' '雁塔区' '未央区' '新城区' '莲湖区' '灞桥区' '碑林区' '长安区' '阎良区' '临潼区']\n",
      "if.nonworkdays.available ['周末法定节假日通用' '非周末法定节假日通用']\n",
      "if.appointment.needed ['无需预约' '需预约']\n",
      "WiFi.available ['免费WiFi' '未提及']\n",
      "parking ['无停车位' '免费停车位' '未提及' '收费停车位']\n",
      "rooms.available ['均可使用' '仅限大厅使用' '未提及']\n",
      "level.of.participants.limited ['不限人数' '限2-4人' '限5-12人' '限1人']\n",
      "level.of.tickets.limited ['不限张数' '限制张数']\n",
      "place ['是' '否']\n",
      "food ['否' '是']\n",
      "taste ['否' '是']\n",
      "cook ['否' '是']\n",
      "people ['否' '是']\n",
      "style ['川系' '其他' '粤系' '北系']\n"
     ]
    }
   ],
   "source": [
    "# 查看各名义变量的具体取值\n",
    "for rv in nominal_list:\n",
    "    print(rv,data[rv].unique())"
   ]
  },
  {
   "cell_type": "markdown",
   "metadata": {},
   "source": [
    "**若直接转成哑变量，place、food、taste、cook、people的“是”和“否”无法区分，WiFi.available、parking、rooms.available中的“未提及”无法区分，因此对这些字段的取值重新赋值。**"
   ]
  },
  {
   "cell_type": "code",
   "execution_count": 679,
   "metadata": {},
   "outputs": [],
   "source": [
    "data['place'] = data['place'].map({'是': '店名含地名', '否':'店名不含地名'})\n",
    "data['food'] = data['food'].map({'是': '店名含食材', '否':'店名不含食材'})\n",
    "data['taste'] = data['taste'].map({'是': '店名含口味', '否':'店名不含口味'})\n",
    "data['cook'] = data['cook'].map({'是': '店名含烹饪方式', '否':'店名不含烹饪方式'})\n",
    "data['people'] = data['people'].map({'是': '店名含人物', '否':'店名不含人物'})"
   ]
  },
  {
   "cell_type": "code",
   "execution_count": 680,
   "metadata": {},
   "outputs": [],
   "source": [
    "data['WiFi.available'] =  data['WiFi.available'].map({'未提及': '未提及wifi','免费WiFi':'免费WiFi'})\n",
    "data['parking'] =  data['parking'].map({'未提及': '未提及停车位', '免费停车位':'免费停车位',\n",
    "                                       '收费停车位':'收费停车位', '无停车位':'无停车位'})\n",
    "data['rooms.available'] =  data['rooms.available'].map({'未提及': '未提及包间','仅限大厅使用':'仅限大厅使用',\n",
    "                                                       '均可使用':'均可使用'})"
   ]
  },
  {
   "cell_type": "markdown",
   "metadata": {},
   "source": [
    "**对每个名义变量生成哑变量：**"
   ]
  },
  {
   "cell_type": "code",
   "execution_count": 681,
   "metadata": {
    "scrolled": true
   },
   "outputs": [
    {
     "name": "stdout",
     "output_type": "stream",
     "text": [
      "(2688, 44)\n"
     ]
    },
    {
     "data": {
      "text/html": [
       "<div>\n",
       "<style scoped>\n",
       "    .dataframe tbody tr th:only-of-type {\n",
       "        vertical-align: middle;\n",
       "    }\n",
       "\n",
       "    .dataframe tbody tr th {\n",
       "        vertical-align: top;\n",
       "    }\n",
       "\n",
       "    .dataframe thead th {\n",
       "        text-align: right;\n",
       "    }\n",
       "</style>\n",
       "<table border=\"1\" class=\"dataframe\">\n",
       "  <thead>\n",
       "    <tr style=\"text-align: right;\">\n",
       "      <th></th>\n",
       "      <th>ID</th>\n",
       "      <th>字段1</th>\n",
       "      <th>字段2</th>\n",
       "      <th>discount</th>\n",
       "      <th>price</th>\n",
       "      <th>time.duration</th>\n",
       "      <th>评分</th>\n",
       "      <th>评论数</th>\n",
       "      <th>online.intervel</th>\n",
       "      <th>quarterly.sales.volume</th>\n",
       "      <th>...</th>\n",
       "      <th>限5-12人</th>\n",
       "      <th>限制张数</th>\n",
       "      <th>店名含地名</th>\n",
       "      <th>店名含食材</th>\n",
       "      <th>店名含口味</th>\n",
       "      <th>店名含烹饪方式</th>\n",
       "      <th>店名含人物</th>\n",
       "      <th>北系</th>\n",
       "      <th>川系</th>\n",
       "      <th>粤系</th>\n",
       "    </tr>\n",
       "  </thead>\n",
       "  <tbody>\n",
       "    <tr>\n",
       "      <td>0</td>\n",
       "      <td>1</td>\n",
       "      <td>巴蜀大魏道火锅(高新路店)</td>\n",
       "      <td>仅售308元，价值372元6人餐！免费WiFi节假日通用，可使用包间！</td>\n",
       "      <td>0.827957</td>\n",
       "      <td>308.0</td>\n",
       "      <td>24.0</td>\n",
       "      <td>5.0</td>\n",
       "      <td>4</td>\n",
       "      <td>216</td>\n",
       "      <td>5.416667</td>\n",
       "      <td>...</td>\n",
       "      <td>0</td>\n",
       "      <td>0</td>\n",
       "      <td>1</td>\n",
       "      <td>0</td>\n",
       "      <td>0</td>\n",
       "      <td>0</td>\n",
       "      <td>0</td>\n",
       "      <td>0</td>\n",
       "      <td>1</td>\n",
       "      <td>0</td>\n",
       "    </tr>\n",
       "    <tr>\n",
       "      <td>1</td>\n",
       "      <td>10</td>\n",
       "      <td>宽窄巷子火锅</td>\n",
       "      <td>仅售79.9元，价值100元代金券！可使用包间，免费停车，免费WiFi！</td>\n",
       "      <td>0.799000</td>\n",
       "      <td>79.9</td>\n",
       "      <td>12.0</td>\n",
       "      <td>4.5</td>\n",
       "      <td>1650</td>\n",
       "      <td>786</td>\n",
       "      <td>1874.198473</td>\n",
       "      <td>...</td>\n",
       "      <td>0</td>\n",
       "      <td>0</td>\n",
       "      <td>0</td>\n",
       "      <td>0</td>\n",
       "      <td>0</td>\n",
       "      <td>0</td>\n",
       "      <td>0</td>\n",
       "      <td>0</td>\n",
       "      <td>1</td>\n",
       "      <td>0</td>\n",
       "    </tr>\n",
       "    <tr>\n",
       "      <td>2</td>\n",
       "      <td>100</td>\n",
       "      <td>重庆鼻祖老火锅</td>\n",
       "      <td>仅售90元，价值100元代金券！可叠加使用，免费WiFi，可使用包间，免费WiFi！</td>\n",
       "      <td>0.900000</td>\n",
       "      <td>90.0</td>\n",
       "      <td>11.0</td>\n",
       "      <td>4.5</td>\n",
       "      <td>151</td>\n",
       "      <td>435</td>\n",
       "      <td>466.758621</td>\n",
       "      <td>...</td>\n",
       "      <td>0</td>\n",
       "      <td>0</td>\n",
       "      <td>1</td>\n",
       "      <td>0</td>\n",
       "      <td>0</td>\n",
       "      <td>0</td>\n",
       "      <td>0</td>\n",
       "      <td>0</td>\n",
       "      <td>1</td>\n",
       "      <td>0</td>\n",
       "    </tr>\n",
       "    <tr>\n",
       "      <td>3</td>\n",
       "      <td>1000</td>\n",
       "      <td>六婆串串香火锅(凤城一路店)</td>\n",
       "      <td>仅售1元，价值12元凤城一路店大签30个！节假日通用，提供免费WiFi，免费WiFi！</td>\n",
       "      <td>0.083333</td>\n",
       "      <td>1.0</td>\n",
       "      <td>10.0</td>\n",
       "      <td>0.0</td>\n",
       "      <td>0</td>\n",
       "      <td>281</td>\n",
       "      <td>2.241993</td>\n",
       "      <td>...</td>\n",
       "      <td>0</td>\n",
       "      <td>0</td>\n",
       "      <td>0</td>\n",
       "      <td>0</td>\n",
       "      <td>1</td>\n",
       "      <td>0</td>\n",
       "      <td>1</td>\n",
       "      <td>0</td>\n",
       "      <td>1</td>\n",
       "      <td>0</td>\n",
       "    </tr>\n",
       "    <tr>\n",
       "      <td>4</td>\n",
       "      <td>1001</td>\n",
       "      <td>辣尚仙焖锅</td>\n",
       "      <td>仅售68元，最高价值128元咸宁中路店双人菌类套餐！?</td>\n",
       "      <td>0.531250</td>\n",
       "      <td>68.0</td>\n",
       "      <td>11.0</td>\n",
       "      <td>4.6</td>\n",
       "      <td>13</td>\n",
       "      <td>433</td>\n",
       "      <td>6.443418</td>\n",
       "      <td>...</td>\n",
       "      <td>0</td>\n",
       "      <td>0</td>\n",
       "      <td>0</td>\n",
       "      <td>0</td>\n",
       "      <td>1</td>\n",
       "      <td>1</td>\n",
       "      <td>0</td>\n",
       "      <td>0</td>\n",
       "      <td>1</td>\n",
       "      <td>0</td>\n",
       "    </tr>\n",
       "  </tbody>\n",
       "</table>\n",
       "<p>5 rows × 44 columns</p>\n",
       "</div>"
      ],
      "text/plain": [
       "     ID             字段1                                          字段2  \\\n",
       "0     1   巴蜀大魏道火锅(高新路店)          仅售308元，价值372元6人餐！免费WiFi节假日通用，可使用包间！   \n",
       "1    10          宽窄巷子火锅         仅售79.9元，价值100元代金券！可使用包间，免费停车，免费WiFi！   \n",
       "2   100         重庆鼻祖老火锅   仅售90元，价值100元代金券！可叠加使用，免费WiFi，可使用包间，免费WiFi！   \n",
       "3  1000  六婆串串香火锅(凤城一路店)  仅售1元，价值12元凤城一路店大签30个！节假日通用，提供免费WiFi，免费WiFi！   \n",
       "4  1001           辣尚仙焖锅                  仅售68元，最高价值128元咸宁中路店双人菌类套餐！?   \n",
       "\n",
       "   discount  price  time.duration   评分   评论数  online.intervel  \\\n",
       "0  0.827957  308.0           24.0  5.0     4              216   \n",
       "1  0.799000   79.9           12.0  4.5  1650              786   \n",
       "2  0.900000   90.0           11.0  4.5   151              435   \n",
       "3  0.083333    1.0           10.0  0.0     0              281   \n",
       "4  0.531250   68.0           11.0  4.6    13              433   \n",
       "\n",
       "   quarterly.sales.volume  ...  限5-12人  限制张数  店名含地名  店名含食材  店名含口味  店名含烹饪方式  \\\n",
       "0                5.416667  ...       0     0      1      0      0        0   \n",
       "1             1874.198473  ...       0     0      0      0      0        0   \n",
       "2              466.758621  ...       0     0      1      0      0        0   \n",
       "3                2.241993  ...       0     0      0      0      1        0   \n",
       "4                6.443418  ...       0     0      0      0      1        1   \n",
       "\n",
       "   店名含人物  北系  川系  粤系  \n",
       "0      0   0   1   0  \n",
       "1      0   0   1   0  \n",
       "2      0   0   1   0  \n",
       "3      1   0   1   0  \n",
       "4      0   0   1   0  \n",
       "\n",
       "[5 rows x 44 columns]"
      ]
     },
     "execution_count": 681,
     "metadata": {},
     "output_type": "execute_result"
    }
   ],
   "source": [
    "for rv in nominal_list:\n",
    "    this_dummy = pd.get_dummies(data[rv]).iloc[:,1:] # 产生哑变量列；防止共线性，去掉一列\n",
    "    data = pd.concat([data,this_dummy], axis=1) # 与原数据合并\n",
    "    data.drop(rv, axis=1, inplace=True) # 去掉原来的变量列\n",
    "print(data.shape)\n",
    "data.head()"
   ]
  },
  {
   "cell_type": "markdown",
   "metadata": {},
   "source": [
    "## >> Q2：因变量处理与部分字段直方图分析\n",
    "* **季均销量转换为对数（防止出现负数，且防止对0取对数造成无穷大的结果，因此对于季均销量不足1件的产品的对数值均算作0）**\n",
    "* **季均销量、团购上线天数、折扣力度绘制分布直方图，简单陈述**"
   ]
  },
  {
   "cell_type": "code",
   "execution_count": 682,
   "metadata": {},
   "outputs": [],
   "source": [
    "# 季均销量转换为对数，对于季均销量不足1件的产品的对数值均算作0\n",
    "data_ = data.copy()\n",
    "data_.loc[(data_['quarterly.sales.volume']<=1),'quarterly.sales.volume'] = 0 # 对于0~1之间的季均销量对数值均先用0填充\n",
    "data_['log_quarterly.sales.volume'] = np.log(data_['quarterly.sales.volume']) \n",
    "data_['log_quarterly.sales.volume'] = data_['log_quarterly.sales.volume'].replace([-np.inf], 0) # 再把上面的0经对数后的inf转成0"
   ]
  },
  {
   "cell_type": "code",
   "execution_count": 683,
   "metadata": {},
   "outputs": [
    {
     "data": {
      "image/png": "[encoded data removed]",
      "text/plain": [
       "<Figure size 576x432 with 1 Axes>"
      ]
     },
     "metadata": {
      "needs_background": "light"
     },
     "output_type": "display_data"
    }
   ],
   "source": [
    "# 解决中文显示问题\n",
    "plt.rcParams['font.sans-serif']=['SimHei']\n",
    "plt.rcParams['axes.unicode_minus'] = False\n",
    "# 画图\n",
    "plt.figure(figsize=(8,6))\n",
    "plt.hist(x=data_['log_quarterly.sales.volume'], bins=20, color='#2D3D8E', alpha=0.7, rwidth=0.85)\n",
    "plt.xlabel('季均销量（个）对数值',fontsize=14)\n",
    "plt.ylabel('频 数',fontsize=14)\n",
    "plt.yticks(size = 12)\n",
    "plt.xticks(size = 12)\n",
    "plt.title('火锅团购产品季均销量对数值分布直方图',fontsize=18)\n",
    "plt.grid(axis='y', alpha=0.5)\n",
    "plt.show()"
   ]
  },
  {
   "cell_type": "code",
   "execution_count": 684,
   "metadata": {},
   "outputs": [
    {
     "data": {
      "image/png": "[encoded data removed]",
      "text/plain": [
       "<Figure size 576x432 with 1 Axes>"
      ]
     },
     "metadata": {
      "needs_background": "light"
     },
     "output_type": "display_data"
    }
   ],
   "source": [
    "# 季均销售量几乎为0的太多；把坐标轴放缩到120重新画图\n",
    "plt.figure(figsize=(8,6))\n",
    "plt.hist(x=data_['log_quarterly.sales.volume'], bins=20, color='#2D3D8E', alpha=0.7, rwidth=0.85)\n",
    "plt.xlabel('季均销量（个）对数值',fontsize=14)\n",
    "plt.ylabel('频 数',fontsize=14)\n",
    "plt.yticks(size = 12)\n",
    "plt.xticks(size = 12)\n",
    "plt.title('火锅团购产品季均销量对数值分布直方图(频数轴限制在120)',fontsize=18)\n",
    "plt.grid(axis='y', alpha=0.5)\n",
    "plt.ylim(0,240)\n",
    "plt.show()"
   ]
  },
  {
   "cell_type": "code",
   "execution_count": 685,
   "metadata": {},
   "outputs": [
    {
     "name": "stdout",
     "output_type": "stream",
     "text": [
      "均销售量几乎为0（<=1）的火锅团购产品占比（%）： 21.28\n"
     ]
    }
   ],
   "source": [
    "# 计算季均销售量几乎为0（<=1）的火锅团购产品占比\n",
    "print('均销售量几乎为0（<=1）的火锅团购产品占比（%）：',\n",
    "     round(sum(data_['log_quarterly.sales.volume'] == 0) / data_.shape[0]*100,2))"
   ]
  },
  {
   "cell_type": "markdown",
   "metadata": {},
   "source": [
    "**季均销售量几乎为0（<=1）的火锅团购产品占比为21.28%，当剔除这部分数据并取对数后，直方图的分布较接近于右偏的正态分布。**"
   ]
  },
  {
   "cell_type": "code",
   "execution_count": 686,
   "metadata": {},
   "outputs": [
    {
     "data": {
      "image/png": "[encoded data removed]",
      "text/plain": [
       "<Figure size 576x432 with 1 Axes>"
      ]
     },
     "metadata": {
      "needs_background": "light"
     },
     "output_type": "display_data"
    }
   ],
   "source": [
    "plt.figure(figsize=(8,6))\n",
    "plt.hist(x=data_['online.intervel'], bins=20, color='#2D3D8E', alpha=0.7, rwidth=0.85)\n",
    "plt.xlabel('团购上线天数（天）',fontsize=14)\n",
    "plt.ylabel('频 数',fontsize=14)\n",
    "plt.yticks(size = 12)\n",
    "plt.xticks(size = 12)\n",
    "plt.title('火锅团购产品团购上线天数分布直方图',fontsize=18)\n",
    "plt.grid(axis='y', alpha=0.5)\n",
    "plt.show()"
   ]
  },
  {
   "cell_type": "markdown",
   "metadata": {},
   "source": [
    "**团购上线天数的直方图如上所示，大部分产品的团购上线天数在600以内。**"
   ]
  },
  {
   "cell_type": "code",
   "execution_count": 687,
   "metadata": {},
   "outputs": [
    {
     "data": {
      "image/png": "[encoded data removed]",
      "text/plain": [
       "<Figure size 576x432 with 1 Axes>"
      ]
     },
     "metadata": {
      "needs_background": "light"
     },
     "output_type": "display_data"
    }
   ],
   "source": [
    "plt.figure(figsize=(8,6))\n",
    "plt.hist(x=data_['discount'], bins=20, color='#2D3D8E', alpha=0.7, rwidth=0.85)\n",
    "plt.xlabel('折扣力度（售价/原价）',fontsize=14)\n",
    "plt.xticks(np.arange(0, 1, 0.1))\n",
    "plt.ylabel('频 数',fontsize=14)\n",
    "plt.yticks(size = 12)\n",
    "plt.xticks(size = 12)\n",
    "plt.title('火锅团购产品折扣力度分布直方图',fontsize=18)\n",
    "plt.grid(axis='y', alpha=0.5)\n",
    "\n",
    "plt.show()"
   ]
  },
  {
   "cell_type": "markdown",
   "metadata": {},
   "source": [
    "**团购产品折扣力度直方图如上所示，可看到大多数折扣在7~9折左右。**"
   ]
  },
  {
   "cell_type": "markdown",
   "metadata": {},
   "source": [
    "## >>> Q3：火锅团购商家店名高频词统计\n",
    "* **将火锅团购商家店名高频词统计出来，并绘制出词云，简单陈述。**  \n",
    "**提示：剔除无意义的词组，如“区”、“路”、“火锅”、“小区”、“分店”、“店”等；剔除非中文字符（数字和字母）。**"
   ]
  },
  {
   "cell_type": "code",
   "execution_count": 688,
   "metadata": {},
   "outputs": [
    {
     "data": {
      "text/html": [
       "<div>\n",
       "<style scoped>\n",
       "    .dataframe tbody tr th:only-of-type {\n",
       "        vertical-align: middle;\n",
       "    }\n",
       "\n",
       "    .dataframe tbody tr th {\n",
       "        vertical-align: top;\n",
       "    }\n",
       "\n",
       "    .dataframe thead th {\n",
       "        text-align: right;\n",
       "    }\n",
       "</style>\n",
       "<table border=\"1\" class=\"dataframe\">\n",
       "  <thead>\n",
       "    <tr style=\"text-align: right;\">\n",
       "      <th></th>\n",
       "      <th>字段1</th>\n",
       "      <th>cut</th>\n",
       "    </tr>\n",
       "  </thead>\n",
       "  <tbody>\n",
       "    <tr>\n",
       "      <td>0</td>\n",
       "      <td>巴蜀大魏道火锅(高新路店)</td>\n",
       "      <td>[巴蜀, 魏道, 高新路店]</td>\n",
       "    </tr>\n",
       "    <tr>\n",
       "      <td>1</td>\n",
       "      <td>宽窄巷子火锅</td>\n",
       "      <td>[宽窄, 巷子]</td>\n",
       "    </tr>\n",
       "    <tr>\n",
       "      <td>2</td>\n",
       "      <td>重庆鼻祖老火锅</td>\n",
       "      <td>[重庆, 鼻祖]</td>\n",
       "    </tr>\n",
       "    <tr>\n",
       "      <td>3</td>\n",
       "      <td>六婆串串香火锅(凤城一路店)</td>\n",
       "      <td>[六婆, 串串, 香火锅, 凤城, 一路店]</td>\n",
       "    </tr>\n",
       "    <tr>\n",
       "      <td>4</td>\n",
       "      <td>辣尚仙焖锅</td>\n",
       "      <td>[辣尚, 仙焖]</td>\n",
       "    </tr>\n",
       "    <tr>\n",
       "      <td>5</td>\n",
       "      <td>萤火虫新概念火锅</td>\n",
       "      <td>[萤火虫, 概念]</td>\n",
       "    </tr>\n",
       "    <tr>\n",
       "      <td>6</td>\n",
       "      <td>冯记猪肚鸡养生火锅</td>\n",
       "      <td>[冯, 记猪, 肚, 鸡, 养生]</td>\n",
       "    </tr>\n",
       "    <tr>\n",
       "      <td>7</td>\n",
       "      <td>张二毛火锅</td>\n",
       "      <td>[二毛]</td>\n",
       "    </tr>\n",
       "    <tr>\n",
       "      <td>8</td>\n",
       "      <td>康二姐串串香火锅(潘村店)</td>\n",
       "      <td>[康二姐, 串串, 香火锅, 潘村店]</td>\n",
       "    </tr>\n",
       "    <tr>\n",
       "      <td>9</td>\n",
       "      <td>万家欢鱼火锅(曲江店)</td>\n",
       "      <td>[欢鱼, 曲江店]</td>\n",
       "    </tr>\n",
       "    <tr>\n",
       "      <td>10</td>\n",
       "      <td>森林雨火锅(科技路分店)</td>\n",
       "      <td>[森林, 科技路, 分店]</td>\n",
       "    </tr>\n",
       "    <tr>\n",
       "      <td>11</td>\n",
       "      <td>我要牛市鲜牛火锅</td>\n",
       "      <td>[牛市, 鲜牛]</td>\n",
       "    </tr>\n",
       "    <tr>\n",
       "      <td>12</td>\n",
       "      <td>成都花串串</td>\n",
       "      <td>[成都, 花串串]</td>\n",
       "    </tr>\n",
       "    <tr>\n",
       "      <td>13</td>\n",
       "      <td>重庆渝江锂火锅</td>\n",
       "      <td>[重庆, 渝江, 锂]</td>\n",
       "    </tr>\n",
       "    <tr>\n",
       "      <td>14</td>\n",
       "      <td>长盛楼火锅</td>\n",
       "      <td>[长盛楼]</td>\n",
       "    </tr>\n",
       "    <tr>\n",
       "      <td>15</td>\n",
       "      <td>荷塘食韵特色火锅(凤城五路店)</td>\n",
       "      <td>[荷塘, 食韵, 特色, 凤城, 五路店]</td>\n",
       "    </tr>\n",
       "    <tr>\n",
       "      <td>16</td>\n",
       "      <td>蜀味轩小火锅</td>\n",
       "      <td>[蜀味, 轩]</td>\n",
       "    </tr>\n",
       "    <tr>\n",
       "      <td>17</td>\n",
       "      <td>莱珍轩时尚臻牛(西安总店)</td>\n",
       "      <td>[莱珍轩, 时尚, 臻牛, 西安, 总店]</td>\n",
       "    </tr>\n",
       "    <tr>\n",
       "      <td>18</td>\n",
       "      <td>蜀江老号火锅</td>\n",
       "      <td>[蜀江, 老号]</td>\n",
       "    </tr>\n",
       "    <tr>\n",
       "      <td>19</td>\n",
       "      <td>月满大江</td>\n",
       "      <td>[大江]</td>\n",
       "    </tr>\n",
       "  </tbody>\n",
       "</table>\n",
       "</div>"
      ],
      "text/plain": [
       "                字段1                     cut\n",
       "0     巴蜀大魏道火锅(高新路店)          [巴蜀, 魏道, 高新路店]\n",
       "1            宽窄巷子火锅                [宽窄, 巷子]\n",
       "2           重庆鼻祖老火锅                [重庆, 鼻祖]\n",
       "3    六婆串串香火锅(凤城一路店)  [六婆, 串串, 香火锅, 凤城, 一路店]\n",
       "4             辣尚仙焖锅                [辣尚, 仙焖]\n",
       "5          萤火虫新概念火锅               [萤火虫, 概念]\n",
       "6         冯记猪肚鸡养生火锅       [冯, 记猪, 肚, 鸡, 养生]\n",
       "7             张二毛火锅                    [二毛]\n",
       "8     康二姐串串香火锅(潘村店)     [康二姐, 串串, 香火锅, 潘村店]\n",
       "9       万家欢鱼火锅(曲江店)               [欢鱼, 曲江店]\n",
       "10     森林雨火锅(科技路分店)           [森林, 科技路, 分店]\n",
       "11         我要牛市鲜牛火锅                [牛市, 鲜牛]\n",
       "12            成都花串串               [成都, 花串串]\n",
       "13          重庆渝江锂火锅             [重庆, 渝江, 锂]\n",
       "14            长盛楼火锅                   [长盛楼]\n",
       "15  荷塘食韵特色火锅(凤城五路店)   [荷塘, 食韵, 特色, 凤城, 五路店]\n",
       "16           蜀味轩小火锅                 [蜀味, 轩]\n",
       "17    莱珍轩时尚臻牛(西安总店)   [莱珍轩, 时尚, 臻牛, 西安, 总店]\n",
       "18           蜀江老号火锅                [蜀江, 老号]\n",
       "19             月满大江                    [大江]"
      ]
     },
     "execution_count": 688,
     "metadata": {},
     "output_type": "execute_result"
    }
   ],
   "source": [
    "import pkuseg\n",
    " \n",
    "# 以默认配置加载模型\n",
    "seg = pkuseg.pkuseg() \n",
    "\n",
    "# 加载停用词表\n",
    "stopwords = []\n",
    "with open(r'.\\stopwords.txt',encoding='utf-8') as f:\n",
    "    stopwords = f.read()\n",
    "\n",
    "# 手动添加无意义的高频词\n",
    "for word in ['火锅','店','锅','城店','路店','村店']:\n",
    "    stopwords += word+'\\n'\n",
    "\n",
    "# 进行分词，并去除停用词，且停用词中已包括符号和数字\n",
    "data_['cut'] = data_['字段1'].apply(lambda x: [i for i in seg.cut(x) if i not in stopwords])\n",
    "\n",
    "data_[['字段1','cut']].head(20)"
   ]
  },
  {
   "cell_type": "markdown",
   "metadata": {},
   "source": [
    "**词频统计：**"
   ]
  },
  {
   "cell_type": "code",
   "execution_count": 598,
   "metadata": {
    "scrolled": true
   },
   "outputs": [
    {
     "name": "stdout",
     "output_type": "stream",
     "text": [
      "店名高频词Top20：\n",
      " [('串串', 252), ('重庆', 222), ('私房', 129), ('自助', 122), ('鱼', 120), ('焖锅', 110), ('北京', 61), ('肥牛', 61), ('鸡公煲', 60), ('主题', 56), ('涮', 55), ('三汁', 55), ('凤城', 47), ('香火锅', 45), ('成都', 44), ('香火', 44), ('清真', 43), ('七婆', 41), ('涮锅', 40), ('串串香', 40)]\n"
     ]
    }
   ],
   "source": [
    "from nltk import FreqDist \n",
    "\n",
    "words = []\n",
    " \n",
    "for content in data_['cut']:\n",
    "    words.extend(content)\n",
    "\n",
    "\n",
    "freq = FreqDist(words)  \n",
    "print('店名高频词Top20：\\n',freq.most_common(20))"
   ]
  },
  {
   "cell_type": "code",
   "execution_count": 599,
   "metadata": {
    "scrolled": false
   },
   "outputs": [
    {
     "data": {
      "image/png": "[encoded data removed]",
      "text/plain": [
       "<Figure size 720x360 with 1 Axes>"
      ]
     },
     "metadata": {
      "needs_background": "light"
     },
     "output_type": "display_data"
    }
   ],
   "source": [
    "import matplotlib.pyplot as plt\n",
    "\n",
    "x_ = [i[0] for i in freq.most_common(20)]\n",
    "x = []\n",
    "for word in x_: # 为了使词语纵向排列，从'串串' 变成'串\\n串'\n",
    "    tmp = ''\n",
    "    for hanzi in word:\n",
    "        tmp += hanzi+'\\n'\n",
    "    x.append(tmp[:-1]) # [:-1]是为了去掉末尾的换行符\n",
    "\n",
    "y = [i[1] for i in freq.most_common(20)]\n",
    "\n",
    "plt.figure(figsize=(10,5))\n",
    "plt.plot(x,y,linewidth=3,color='#2D3D8E', alpha=0.7, marker='o', markerfacecolor='#3DBA78', markersize=8)\n",
    "plt.ylabel('频数',fontsize=14)\n",
    "plt.title('火锅团购商家店名高频词Top20折线图',fontsize=18)\n",
    "plt.tick_params(labelsize=14)\n",
    "plt.grid(axis='y', alpha=0.5)\n",
    "plt.show()"
   ]
  },
  {
   "cell_type": "code",
   "execution_count": 600,
   "metadata": {},
   "outputs": [
    {
     "data": {
      "image/png": "[encoded data removed]",
      "text/plain": [
       "<Figure size 1152x864 with 1 Axes>"
      ]
     },
     "metadata": {
      "needs_background": "light"
     },
     "output_type": "display_data"
    }
   ],
   "source": [
    "back_coloring_path = './hotpot.jpg'  # 火锅形状图\n",
    "back_coloring = imread(back_coloring_path)  # 读取图片\n",
    "\n",
    "text = ' '.join(words)\n",
    "\n",
    "wordcloud = WordCloud(background_color='white',\n",
    "                      margin=2,\n",
    "                      max_words=100,  # 设置最多显示的词数\n",
    "                      mask=back_coloring,  # 设置词云形状\n",
    "                      font_path=\"simhei.ttf\",  # 中文词图必须设置字体格式，否则会乱码，这里加载的是黑体\n",
    "                      random_state=10, # 配色方案随机种子\n",
    "                      collocations=False)  # collocations=False，词云图中才不会出现重复词\n",
    "w = wordcloud.generate(text) \n",
    "plt.figure(figsize=(16,12))\n",
    "plt.imshow(w)\n",
    "plt.axis('off')  \n",
    "plt.show()"
   ]
  },
  {
   "cell_type": "markdown",
   "metadata": {},
   "source": [
    "**由词频统计与词云图可看出，火锅团购商家取店名的过程中:**\n",
    "* **高频地名有“重庆”、“成都”、“北京”，其中“重庆”远多于其他地名；**\n",
    "* **高频产品类型有“串串/串串香”、“焖锅”、“鸡公煲”，其中“串串/串串香”远多于其他产品；**\n",
    "* **高频主打食材有“鱼”、“肥牛”等；**\n",
    "* **此外，“自助”也是高频词，表明采取自助形式的火锅团购不少。**"
   ]
  },
  {
   "cell_type": "markdown",
   "metadata": {},
   "source": [
    "## >>> Q4：销量与价格/节假日是否通用的关系探究\n",
    "* **用箱线图表示销量与团购价的关系，及销量与节假日通用的关系；并解读**"
   ]
  },
  {
   "cell_type": "code",
   "execution_count": 690,
   "metadata": {
    "scrolled": false
   },
   "outputs": [
    {
     "data": {
      "text/plain": [
       "<seaborn.axisgrid.JointGrid at 0x1e5a398f608>"
      ]
     },
     "execution_count": 690,
     "metadata": {},
     "output_type": "execute_result"
    },
    {
     "data": {
      "image/png": "[encoded data removed]",
      "text/plain": [
       "<Figure size 504x504 with 3 Axes>"
      ]
     },
     "metadata": {
      "needs_background": "light"
     },
     "output_type": "display_data"
    }
   ],
   "source": [
    "# 产品季均销量对数值与套餐价格散点图\n",
    "tmp_df = data_[['log_quarterly.sales.volume', 'price']]\n",
    "tmp_df = tmp_df.rename(columns={'log_quarterly.sales.volume':'季均销量（个）对数值', 'price':'团购套餐售价'})\n",
    "sns.jointplot(x='团购套餐售价', y='季均销量（个）对数值',data=tmp_df, \n",
    "              height=7, color='#2D3D8E', alpha=0.4, s=5) # kind即控制蜂窝图\n",
    "# plt.ylim(0)"
   ]
  },
  {
   "cell_type": "markdown",
   "metadata": {},
   "source": [
    "**由产品季均销量对数值与套餐价格散点图可以看出，绝大多数套餐售价在400以内，销量高的套餐售价在100以下。**"
   ]
  },
  {
   "cell_type": "code",
   "execution_count": 603,
   "metadata": {},
   "outputs": [
    {
     "data": {
      "image/png": "[encoded data removed]",
      "text/plain": [
       "<Figure size 432x432 with 1 Axes>"
      ]
     },
     "metadata": {
      "needs_background": "light"
     },
     "output_type": "display_data"
    }
   ],
   "source": [
    "# 产品季均销量对数值与套餐价格密度图\\n(价格轴限制在250以下\n",
    "f, ax= plt.subplots(figsize = (6,6))\n",
    "sns.kdeplot( data_[ 'price'],data_['log_quarterly.sales.volume'], shade=True, ax=ax, color='#2D3D8E')\n",
    "ax.tick_params(labelsize=13)\n",
    "plt.ylim(0,8)\n",
    "plt.xlim(0,400)\n",
    "plt.xlabel('团购套餐价格（元）',fontsize=14)\n",
    "plt.ylabel('季均销量对数值',fontsize=14)\n",
    "plt.title('产品季均销量对数值与套餐价格密度图\\n(价格轴限制在400元)',fontsize=16)\n",
    "plt.show()"
   ]
  },
  {
   "cell_type": "markdown",
   "metadata": {},
   "source": [
    "**由套餐价格轴限制在400元的双变量密度图可以看出，销量高的套餐售价在50~100元之间。**"
   ]
  },
  {
   "cell_type": "markdown",
   "metadata": {},
   "source": [
    "**用箱线图比较套餐售价高于100元与低于100元时，季均销量（对数值）的差异有多大。**"
   ]
  },
  {
   "cell_type": "code",
   "execution_count": 609,
   "metadata": {
    "scrolled": false
   },
   "outputs": [
    {
     "data": {
      "text/html": [
       "<div>\n",
       "<style scoped>\n",
       "    .dataframe tbody tr th:only-of-type {\n",
       "        vertical-align: middle;\n",
       "    }\n",
       "\n",
       "    .dataframe tbody tr th {\n",
       "        vertical-align: top;\n",
       "    }\n",
       "\n",
       "    .dataframe thead th {\n",
       "        text-align: right;\n",
       "    }\n",
       "</style>\n",
       "<table border=\"1\" class=\"dataframe\">\n",
       "  <thead>\n",
       "    <tr style=\"text-align: right;\">\n",
       "      <th></th>\n",
       "      <th>季均销量对数值</th>\n",
       "      <th>价格水平</th>\n",
       "    </tr>\n",
       "  </thead>\n",
       "  <tbody>\n",
       "    <tr>\n",
       "      <td>63</td>\n",
       "      <td>3.306236</td>\n",
       "      <td>0~100</td>\n",
       "    </tr>\n",
       "    <tr>\n",
       "      <td>1701</td>\n",
       "      <td>2.782158</td>\n",
       "      <td>0~100</td>\n",
       "    </tr>\n",
       "    <tr>\n",
       "      <td>184</td>\n",
       "      <td>1.078307</td>\n",
       "      <td>0~100</td>\n",
       "    </tr>\n",
       "    <tr>\n",
       "      <td>2173</td>\n",
       "      <td>4.932742</td>\n",
       "      <td>0~100</td>\n",
       "    </tr>\n",
       "    <tr>\n",
       "      <td>137</td>\n",
       "      <td>2.950190</td>\n",
       "      <td>0~100</td>\n",
       "    </tr>\n",
       "  </tbody>\n",
       "</table>\n",
       "</div>"
      ],
      "text/plain": [
       "       季均销量对数值   价格水平\n",
       "63    3.306236  0~100\n",
       "1701  2.782158  0~100\n",
       "184   1.078307  0~100\n",
       "2173  4.932742  0~100\n",
       "137   2.950190  0~100"
      ]
     },
     "execution_count": 609,
     "metadata": {},
     "output_type": "execute_result"
    }
   ],
   "source": [
    "tmp_df = data_[['log_quarterly.sales.volume', 'price']]\n",
    "tmp_df = tmp_df.sort_values(by='price') \n",
    "tmp_df.loc[tmp_df['price']<=100, 'price_level'] = '0~100'\n",
    "tmp_df.loc[(tmp_df['price']>100) & (tmp_df['price']<=200), 'price_level'] = '100~200'\n",
    "tmp_df.loc[(tmp_df['price']>200) & (tmp_df['price']<=400), 'price_level'] = '200~400'\n",
    "tmp_df.loc[tmp_df['price']>400, 'price_level'] = '>400'\n",
    "tmp_df.drop('price', axis = 1, inplace = True)\n",
    "tmp_df = tmp_df.rename(columns={'log_quarterly.sales.volume':'季均销量对数值', 'price_level':'价格水平'})\n",
    "tmp_df.head(5)"
   ]
  },
  {
   "cell_type": "code",
   "execution_count": 610,
   "metadata": {},
   "outputs": [
    {
     "data": {
      "image/png": "[encoded data removed]",
      "text/plain": [
       "<Figure size 432x432 with 1 Axes>"
      ]
     },
     "metadata": {
      "needs_background": "light"
     },
     "output_type": "display_data"
    }
   ],
   "source": [
    "plt.figure(figsize=(6,6))\n",
    "plt.title('各价格水平下季均销量对数值箱线图',fontsize=18)\n",
    "labels = '0~100','100~200','200~400','>400'\n",
    "\n",
    "plt.boxplot([tmp_df[tmp_df['价格水平'] == '0~100']['季均销量对数值'], \n",
    "             tmp_df[tmp_df['价格水平'] == '100~200']['季均销量对数值'],\n",
    "             tmp_df[tmp_df['价格水平'] == '200~400']['季均销量对数值'], \n",
    "             tmp_df[tmp_df['价格水平'] == '>400']['季均销量对数值']], \n",
    "            labels = labels, showmeans = True)\n",
    "plt.xlabel('价格水平（元）',fontsize=14)\n",
    "plt.ylabel('季均销量（个）对数值',fontsize=14)\n",
    "plt.yticks(size = 14)\n",
    "plt.xticks(size = 14)\n",
    "plt.grid(axis='y', alpha=0.3)\n",
    "\n",
    "plt.show()"
   ]
  },
  {
   "cell_type": "markdown",
   "metadata": {},
   "source": [
    "**由上图可见，在这 4 个价格水平中，价格在0~100之间的团购产品的销量平均数、中位数、上下四分位数均为最高，这与我们的认知相符。有意思的是，销量平均数和中位数次高的价格水平为最高的“大于400元”。通过结合价格与销量的散点图，我们可以发现在400元以上的团购产品非常少，但销量大多较可观；反观400元以下的团购产品，有非常多的产品季均销量不足一件，造成拖累。但若着眼于每个价格水平中最火热产品的销量，则是完全地随着价格升高而下降。**"
   ]
  },
  {
   "cell_type": "code",
   "execution_count": 611,
   "metadata": {},
   "outputs": [
    {
     "data": {
      "text/html": [
       "<div>\n",
       "<style scoped>\n",
       "    .dataframe tbody tr th:only-of-type {\n",
       "        vertical-align: middle;\n",
       "    }\n",
       "\n",
       "    .dataframe tbody tr th {\n",
       "        vertical-align: top;\n",
       "    }\n",
       "\n",
       "    .dataframe thead th {\n",
       "        text-align: right;\n",
       "    }\n",
       "</style>\n",
       "<table border=\"1\" class=\"dataframe\">\n",
       "  <thead>\n",
       "    <tr style=\"text-align: right;\">\n",
       "      <th></th>\n",
       "      <th>季均销量对数值</th>\n",
       "      <th>非节假日通用</th>\n",
       "    </tr>\n",
       "  </thead>\n",
       "  <tbody>\n",
       "    <tr>\n",
       "      <td>0</td>\n",
       "      <td>1.689481</td>\n",
       "      <td>0</td>\n",
       "    </tr>\n",
       "    <tr>\n",
       "      <td>1</td>\n",
       "      <td>7.535936</td>\n",
       "      <td>0</td>\n",
       "    </tr>\n",
       "    <tr>\n",
       "      <td>2</td>\n",
       "      <td>6.145812</td>\n",
       "      <td>1</td>\n",
       "    </tr>\n",
       "    <tr>\n",
       "      <td>3</td>\n",
       "      <td>0.807365</td>\n",
       "      <td>0</td>\n",
       "    </tr>\n",
       "    <tr>\n",
       "      <td>4</td>\n",
       "      <td>1.863059</td>\n",
       "      <td>1</td>\n",
       "    </tr>\n",
       "  </tbody>\n",
       "</table>\n",
       "</div>"
      ],
      "text/plain": [
       "    季均销量对数值  非节假日通用\n",
       "0  1.689481       0\n",
       "1  7.535936       0\n",
       "2  6.145812       1\n",
       "3  0.807365       0\n",
       "4  1.863059       1"
      ]
     },
     "execution_count": 611,
     "metadata": {},
     "output_type": "execute_result"
    }
   ],
   "source": [
    "tmp_df = data_[['log_quarterly.sales.volume', '非周末法定节假日通用']]\n",
    "tmp_df = tmp_df.rename(columns={'log_quarterly.sales.volume':'季均销量对数值', '非周末法定节假日通用':'非节假日通用'})\n",
    "tmp_df.head(5)"
   ]
  },
  {
   "cell_type": "code",
   "execution_count": 612,
   "metadata": {
    "scrolled": false
   },
   "outputs": [
    {
     "data": {
      "image/png": "[encoded data removed]",
      "text/plain": [
       "<Figure size 432x432 with 1 Axes>"
      ]
     },
     "metadata": {
      "needs_background": "light"
     },
     "output_type": "display_data"
    }
   ],
   "source": [
    "plt.figure(figsize=(6,6))\n",
    "plt.title('是否节假日可用与季均销量对数值箱线图',fontsize=18)\n",
    "labels = '节假日通用','非节假日通用'\n",
    "\n",
    "plt.boxplot([tmp_df[tmp_df['非节假日通用'] == 0]['季均销量对数值'], \n",
    "             tmp_df[tmp_df['非节假日通用'] == 1]['季均销量对数值']],\n",
    "            labels = labels, showmeans = True, widths = 0.6)\n",
    "plt.ylabel('季均销量（个）对数值',fontsize=14)\n",
    "plt.yticks(size = 14)\n",
    "plt.xticks(size = 14)\n",
    "plt.grid(axis='y', alpha=0.3)\n",
    "\n",
    "plt.show()"
   ]
  },
  {
   "cell_type": "code",
   "execution_count": 627,
   "metadata": {},
   "outputs": [
    {
     "name": "stdout",
     "output_type": "stream",
     "text": [
      "非节假日通用的产品占比为 85.0 %\n"
     ]
    }
   ],
   "source": [
    "print('非节假日通用的产品占比为',round(sum(tmp_df['非节假日通用'] == 0) / tmp_df.shape[0],3)*100,'%')"
   ]
  },
  {
   "cell_type": "markdown",
   "metadata": {},
   "source": [
    "**绝大多数的产品均为“非节假日通用”，占比达到85%。由上图可见，“非节假日通用”的产品销量整体明显高于“节假日通用”的产品，但“节假日通用”的最火热产品销量超过“非节假日通用”。**"
   ]
  },
  {
   "cell_type": "markdown",
   "metadata": {},
   "source": [
    "## >>> Q5：销量与店名中包含的各类词汇的关系探究\n",
    "* **用箱线图表示店名中包含的各类词汇与团购销量的关系，并解读**"
   ]
  },
  {
   "cell_type": "code",
   "execution_count": 630,
   "metadata": {},
   "outputs": [
    {
     "data": {
      "text/html": [
       "<div>\n",
       "<style scoped>\n",
       "    .dataframe tbody tr th:only-of-type {\n",
       "        vertical-align: middle;\n",
       "    }\n",
       "\n",
       "    .dataframe tbody tr th {\n",
       "        vertical-align: top;\n",
       "    }\n",
       "\n",
       "    .dataframe thead th {\n",
       "        text-align: right;\n",
       "    }\n",
       "</style>\n",
       "<table border=\"1\" class=\"dataframe\">\n",
       "  <thead>\n",
       "    <tr style=\"text-align: right;\">\n",
       "      <th></th>\n",
       "      <th>place</th>\n",
       "      <th>food</th>\n",
       "      <th>taste</th>\n",
       "      <th>cook</th>\n",
       "      <th>people</th>\n",
       "      <th>style</th>\n",
       "      <th>HighFreq</th>\n",
       "      <th>log_quarterly.sales.volume</th>\n",
       "    </tr>\n",
       "  </thead>\n",
       "  <tbody>\n",
       "    <tr>\n",
       "      <td>0</td>\n",
       "      <td>是</td>\n",
       "      <td>否</td>\n",
       "      <td>否</td>\n",
       "      <td>否</td>\n",
       "      <td>否</td>\n",
       "      <td>川系</td>\n",
       "      <td>2</td>\n",
       "      <td>1.689481</td>\n",
       "    </tr>\n",
       "    <tr>\n",
       "      <td>1</td>\n",
       "      <td>否</td>\n",
       "      <td>否</td>\n",
       "      <td>否</td>\n",
       "      <td>否</td>\n",
       "      <td>否</td>\n",
       "      <td>川系</td>\n",
       "      <td>1</td>\n",
       "      <td>7.535936</td>\n",
       "    </tr>\n",
       "    <tr>\n",
       "      <td>2</td>\n",
       "      <td>是</td>\n",
       "      <td>否</td>\n",
       "      <td>否</td>\n",
       "      <td>否</td>\n",
       "      <td>否</td>\n",
       "      <td>川系</td>\n",
       "      <td>3</td>\n",
       "      <td>6.145812</td>\n",
       "    </tr>\n",
       "    <tr>\n",
       "      <td>3</td>\n",
       "      <td>否</td>\n",
       "      <td>否</td>\n",
       "      <td>是</td>\n",
       "      <td>否</td>\n",
       "      <td>是</td>\n",
       "      <td>川系</td>\n",
       "      <td>4</td>\n",
       "      <td>0.807365</td>\n",
       "    </tr>\n",
       "    <tr>\n",
       "      <td>4</td>\n",
       "      <td>否</td>\n",
       "      <td>否</td>\n",
       "      <td>是</td>\n",
       "      <td>是</td>\n",
       "      <td>否</td>\n",
       "      <td>川系</td>\n",
       "      <td>4</td>\n",
       "      <td>1.863059</td>\n",
       "    </tr>\n",
       "  </tbody>\n",
       "</table>\n",
       "</div>"
      ],
      "text/plain": [
       "  place food taste cook people style  HighFreq  log_quarterly.sales.volume\n",
       "0     是    否     否    否      否    川系         2                    1.689481\n",
       "1     否    否     否    否      否    川系         1                    7.535936\n",
       "2     是    否     否    否      否    川系         3                    6.145812\n",
       "3     否    否     是    否      是    川系         4                    0.807365\n",
       "4     否    否     是    是      否    川系         4                    1.863059"
      ]
     },
     "execution_count": 630,
     "metadata": {},
     "output_type": "execute_result"
    }
   ],
   "source": [
    "# 准备数据\n",
    "\n",
    "# rv_list = ['店名含地名', '店名含食材', '店名含口味', '店名含烹饪方式', '店名含人物']\n",
    "rv_list = ['place', 'food', 'taste', 'cook', 'people', 'style', 'HighFreq']\n",
    "data = pd.read_csv(r'.\\HotPot.csv')\n",
    "tmp_df = data[rv_list]\n",
    "tmp_df = pd.concat([tmp_df,data_['log_quarterly.sales.volume']],axis=1)\n",
    "# tmp_df = tmp_df.rename(columns={'log_quarterly.sales.volume':'季均销量对数值'})\n",
    "tmp_df.head()"
   ]
  },
  {
   "cell_type": "code",
   "execution_count": 631,
   "metadata": {
    "scrolled": false
   },
   "outputs": [
    {
     "data": {
      "image/png": "[encoded data removed]",
      "text/plain": [
       "<Figure size 288x432 with 1 Axes>"
      ]
     },
     "metadata": {
      "needs_background": "light"
     },
     "output_type": "display_data"
    }
   ],
   "source": [
    "plt.figure(figsize=(4,6))\n",
    "plt.title('是否包含地名与季均销量对数值箱线图',fontsize=18)\n",
    "labels = '包含地名','不包含地名'\n",
    "\n",
    "plt.boxplot([tmp_df[tmp_df['place'] == '是']['log_quarterly.sales.volume'], \n",
    "             tmp_df[tmp_df['place'] == '否']['log_quarterly.sales.volume']],\n",
    "            labels = labels, showmeans = True, widths = 0.6)\n",
    "plt.ylabel('季均销量（个）对数值',fontsize=14)\n",
    "plt.yticks(size = 14)\n",
    "plt.xticks(size = 14)\n",
    "plt.grid(axis='y', alpha=0.2)\n",
    "\n",
    "plt.show()"
   ]
  },
  {
   "cell_type": "markdown",
   "metadata": {},
   "source": [
    "**由上可见，店名中是否包含地名对于产品销量的影响并不明显。**"
   ]
  },
  {
   "cell_type": "code",
   "execution_count": 632,
   "metadata": {},
   "outputs": [
    {
     "data": {
      "image/png": "[encoded data removed]",
      "text/plain": [
       "<Figure size 288x432 with 1 Axes>"
      ]
     },
     "metadata": {
      "needs_background": "light"
     },
     "output_type": "display_data"
    }
   ],
   "source": [
    "plt.figure(figsize=(4,6))\n",
    "plt.title('是否包含食材与季均销量对数值箱线图',fontsize=18)\n",
    "labels = '包含食材','不包含食材'\n",
    "\n",
    "plt.boxplot([tmp_df[tmp_df['food'] == '是']['log_quarterly.sales.volume'], \n",
    "             tmp_df[tmp_df['food'] == '否']['log_quarterly.sales.volume']],\n",
    "            labels = labels, showmeans = True, widths = 0.6)\n",
    "plt.ylabel('季均销量（个）对数值',fontsize=14)\n",
    "plt.yticks(size = 14)\n",
    "plt.xticks(size = 14)\n",
    "plt.grid(axis='y', alpha=0.2)\n",
    "\n",
    "plt.show()"
   ]
  },
  {
   "cell_type": "markdown",
   "metadata": {},
   "source": [
    "**由上可见，店名包含食材的产品销量中位数、平均数、下四分位数均高于店名不包含食材的情况，即店名中包含食材对于产品销量有一定正面影响。猜测其原因，也许是因为包含食材的店名更清晰直观、容易使消费者明确火锅店的主打食材、或更容易激起消费者食欲。**"
   ]
  },
  {
   "cell_type": "code",
   "execution_count": 636,
   "metadata": {},
   "outputs": [
    {
     "data": {
      "image/png": "[encoded data removed]",
      "text/plain": [
       "<Figure size 288x432 with 1 Axes>"
      ]
     },
     "metadata": {
      "needs_background": "light"
     },
     "output_type": "display_data"
    }
   ],
   "source": [
    "plt.figure(figsize=(4,6))\n",
    "plt.title('是否包含口味与季均销量对数值箱线图',fontsize=18)\n",
    "labels = '包含口味','不包含口味'\n",
    "\n",
    "plt.boxplot([tmp_df[tmp_df['taste'] == '是']['log_quarterly.sales.volume'], \n",
    "             tmp_df[tmp_df['taste'] == '否']['log_quarterly.sales.volume']],\n",
    "            labels = labels, showmeans = True, widths = 0.6)\n",
    "plt.ylabel('季均销量（个）对数值',fontsize=14)\n",
    "plt.yticks(size = 14)\n",
    "plt.xticks(size = 14)\n",
    "plt.grid(axis='y', alpha=0.2)\n",
    "\n",
    "plt.show()"
   ]
  },
  {
   "cell_type": "markdown",
   "metadata": {},
   "source": [
    "**由上可见，店名包含口味的产品销量中位数、平均数、下四分位数均高于店名不包含食材的情况，即店名中包含口味对于产品销量有一定正面影响，但不包含口味的店名的产品销量上限高于店名包含口味的情况。猜测其原因，也许是因为包含口味的店名更清晰直观、容易使消费者明确、或更容易激起消费者食欲。**"
   ]
  },
  {
   "cell_type": "code",
   "execution_count": 637,
   "metadata": {},
   "outputs": [
    {
     "data": {
      "image/png": "[encoded data removed]",
      "text/plain": [
       "<Figure size 288x432 with 1 Axes>"
      ]
     },
     "metadata": {
      "needs_background": "light"
     },
     "output_type": "display_data"
    }
   ],
   "source": [
    "plt.figure(figsize=(4,6))\n",
    "plt.title('是否包含烹饪方式与季均销量对数值箱线图',fontsize=18)\n",
    "labels = '包含烹饪方式', '不包含烹饪方式'\n",
    "\n",
    "plt.boxplot([tmp_df[tmp_df['cook'] == '是']['log_quarterly.sales.volume'], \n",
    "             tmp_df[tmp_df['cook'] == '否']['log_quarterly.sales.volume']],\n",
    "            labels = labels, showmeans = True, widths = 0.6)\n",
    "plt.ylabel('季均销量（个）对数值',fontsize=14)\n",
    "plt.yticks(size = 14)\n",
    "plt.xticks(size = 14)\n",
    "plt.grid(axis='y', alpha=0.2)\n",
    "\n",
    "plt.show()"
   ]
  },
  {
   "cell_type": "markdown",
   "metadata": {},
   "source": [
    "**由上可见，店名中是否包含烹饪方式对于产品销量的影响并不明显。**"
   ]
  },
  {
   "cell_type": "code",
   "execution_count": 641,
   "metadata": {
    "scrolled": false
   },
   "outputs": [
    {
     "data": {
      "image/png": "[encoded data removed]",
      "text/plain": [
       "<Figure size 288x432 with 1 Axes>"
      ]
     },
     "metadata": {
      "needs_background": "light"
     },
     "output_type": "display_data"
    }
   ],
   "source": [
    "plt.figure(figsize=(4,6))\n",
    "plt.title('菜系与季均销量对数值箱线图',fontsize=18)\n",
    "labels = '北系', '川系', '粤系', '其他'\n",
    "\n",
    "plt.boxplot([tmp_df[tmp_df['style'] == '北系']['log_quarterly.sales.volume'], \n",
    "             tmp_df[tmp_df['style'] == '川系']['log_quarterly.sales.volume'],\n",
    "             tmp_df[tmp_df['style'] == '粤系']['log_quarterly.sales.volume'],\n",
    "             tmp_df[tmp_df['style'] == '其他']['log_quarterly.sales.volume']],\n",
    "            labels = labels, showmeans = True, widths = 0.6)\n",
    "plt.ylabel('季均销量（个）对数值',fontsize=14)\n",
    "plt.yticks(size = 14)\n",
    "plt.xticks(size = 14)\n",
    "plt.grid(axis='y', alpha=0.2)\n",
    "\n",
    "plt.show()"
   ]
  },
  {
   "cell_type": "markdown",
   "metadata": {},
   "source": [
    "**由上可见，在北、川、粤三系的火锅中，粤系最不受欢迎，川系人气最高。**"
   ]
  },
  {
   "cell_type": "code",
   "execution_count": 644,
   "metadata": {},
   "outputs": [
    {
     "data": {
      "image/png": "[encoded data removed]",
      "text/plain": [
       "<Figure size 288x432 with 1 Axes>"
      ]
     },
     "metadata": {
      "needs_background": "light"
     },
     "output_type": "display_data"
    }
   ],
   "source": [
    "plt.figure(figsize=(4,6))\n",
    "plt.title('店名高频词个数与季均销量对数值箱线图',fontsize=18)\n",
    "labels = 0, 1, 2, 3, 4, 5, 6\n",
    "\n",
    "plt.boxplot([tmp_df[tmp_df['HighFreq'] == 0]['log_quarterly.sales.volume'],\n",
    "             tmp_df[tmp_df['HighFreq'] == 1]['log_quarterly.sales.volume'], \n",
    "             tmp_df[tmp_df['HighFreq'] == 2]['log_quarterly.sales.volume'],\n",
    "             tmp_df[tmp_df['HighFreq'] == 3]['log_quarterly.sales.volume'],\n",
    "             tmp_df[tmp_df['HighFreq'] == 4]['log_quarterly.sales.volume'],\n",
    "             tmp_df[tmp_df['HighFreq'] == 5]['log_quarterly.sales.volume'],\n",
    "             tmp_df[tmp_df['HighFreq'] == 6]['log_quarterly.sales.volume']],\n",
    "            labels = labels, showmeans = True, widths = 0.6)\n",
    "plt.ylabel('季均销量（个）对数值',fontsize=14)\n",
    "plt.xlabel('店名使用TOP20高频词的个数',fontsize=14)\n",
    "plt.yticks(size = 14)\n",
    "plt.xticks(size = 14)\n",
    "plt.grid(axis='y', alpha=0.2)\n",
    "\n",
    "plt.show()"
   ]
  },
  {
   "cell_type": "markdown",
   "metadata": {},
   "source": [
    "**由上可见，店名中包含高频词的数量越多，销量整体会有所提升。但人气最高的产品并不是诞生于高频词堆叠太多的产品中。**"
   ]
  },
  {
   "cell_type": "markdown",
   "metadata": {},
   "source": [
    "## >>> Q6：建立线性回归模型，探究影响团购销量的主要因素"
   ]
  },
  {
   "cell_type": "code",
   "execution_count": 691,
   "metadata": {},
   "outputs": [],
   "source": [
    "# 对连续型变量做数据标准化\n",
    "from sklearn import preprocessing\n",
    "for rv in ['discount', 'price', 'time.duration', '评分', '评论数', 'online.intervel','price_per_person']:\n",
    "    data_[rv] = preprocessing.scale([i for i in data_[rv]])"
   ]
  },
  {
   "cell_type": "markdown",
   "metadata": {},
   "source": [
    "#### 将数据集分为测试集和训练集。"
   ]
  },
  {
   "cell_type": "code",
   "execution_count": 695,
   "metadata": {},
   "outputs": [
    {
     "name": "stdout",
     "output_type": "stream",
     "text": [
      "Shape of total data: (2688, 41)\n",
      "Shape of training data: (1882, 41)\n",
      "Shape of testing data: (806, 41)\n"
     ]
    }
   ],
   "source": [
    "rv_list = [x for x in data_.columns if x not in ['ID', '字段1', '字段2', 'cut', 'quarterly.sales.volume']]\n",
    "reg_data = data_[rv_list]\n",
    "print('Shape of total data:', reg_data.shape)\n",
    "train_data = reg_data.sample(frac = 0.7, random_state = 0, axis = 0, replace = False)\n",
    "print('Shape of training data:', train_data.shape)\n",
    "test_data = reg_data[~reg_data.index.isin(train_data.index)]\n",
    "print('Shape of testing data:', test_data.shape)\n",
    "\n",
    "rv_list.remove('log_quarterly.sales.volume') # 自变量列表"
   ]
  },
  {
   "cell_type": "code",
   "execution_count": 696,
   "metadata": {},
   "outputs": [],
   "source": [
    "# RMSE 与 r2 计算\n",
    "from sklearn.metrics import mean_squared_error, r2_score\n",
    "\n",
    "def cal_metrics(model, data_df):\n",
    "    y_ = data_df['log_quarterly.sales.volume']\n",
    "    y_pred = model.predict(sm.add_constant(data_df[rv_list]))\n",
    "    return r2_score(y_, y_pred), mean_squared_error(y_, y_pred)**0.5"
   ]
  },
  {
   "cell_type": "code",
   "execution_count": 697,
   "metadata": {},
   "outputs": [
    {
     "name": "stdout",
     "output_type": "stream",
     "text": [
      "R2 on training set: 0.5078\n",
      "RMSE on training set: 1.5357\n",
      "R2 on testing set: 0.5071\n",
      "RMSE on testing set: 1.5362\n"
     ]
    }
   ],
   "source": [
    "model_full = OLS(train_data['log_quarterly.sales.volume'], sm.add_constant(train_data[rv_list])).fit()\n",
    "# y_test_pred = model_full.predict(sm.add_constant(test_data[rv_list]))\n",
    "r2_train, rmse_train = cal_metrics(model_full, train_data)\n",
    "r2_test, rmse_test = cal_metrics(model_full, test_data)\n",
    "\n",
    "print('R2 on training set:', round(r2_train,4))\n",
    "print('RMSE on training set:', round(rmse_train,4))\n",
    "print('R2 on testing set:', round(r2_test,4))\n",
    "print('RMSE on testing set:', round(rmse_test,4))"
   ]
  },
  {
   "cell_type": "code",
   "execution_count": 653,
   "metadata": {
    "scrolled": true
   },
   "outputs": [
    {
     "data": {
      "text/html": [
       "<div>\n",
       "<style scoped>\n",
       "    .dataframe tbody tr th:only-of-type {\n",
       "        vertical-align: middle;\n",
       "    }\n",
       "\n",
       "    .dataframe tbody tr th {\n",
       "        vertical-align: top;\n",
       "    }\n",
       "\n",
       "    .dataframe thead th {\n",
       "        text-align: right;\n",
       "    }\n",
       "</style>\n",
       "<table border=\"1\" class=\"dataframe\">\n",
       "  <thead>\n",
       "    <tr style=\"text-align: right;\">\n",
       "      <th></th>\n",
       "      <th>feature</th>\n",
       "      <th>VIF</th>\n",
       "    </tr>\n",
       "  </thead>\n",
       "  <tbody>\n",
       "    <tr>\n",
       "      <td>0</td>\n",
       "      <td>discount</td>\n",
       "      <td>1.3</td>\n",
       "    </tr>\n",
       "    <tr>\n",
       "      <td>1</td>\n",
       "      <td>price</td>\n",
       "      <td>8.6</td>\n",
       "    </tr>\n",
       "    <tr>\n",
       "      <td>2</td>\n",
       "      <td>time.duration</td>\n",
       "      <td>1.1</td>\n",
       "    </tr>\n",
       "    <tr>\n",
       "      <td>3</td>\n",
       "      <td>评分</td>\n",
       "      <td>1.2</td>\n",
       "    </tr>\n",
       "    <tr>\n",
       "      <td>4</td>\n",
       "      <td>评论数</td>\n",
       "      <td>1.1</td>\n",
       "    </tr>\n",
       "    <tr>\n",
       "      <td>5</td>\n",
       "      <td>online.intervel</td>\n",
       "      <td>1.3</td>\n",
       "    </tr>\n",
       "    <tr>\n",
       "      <td>6</td>\n",
       "      <td>HighFreq</td>\n",
       "      <td>1.5</td>\n",
       "    </tr>\n",
       "    <tr>\n",
       "      <td>7</td>\n",
       "      <td>num_people</td>\n",
       "      <td>77.0</td>\n",
       "    </tr>\n",
       "    <tr>\n",
       "      <td>8</td>\n",
       "      <td>price_per_person</td>\n",
       "      <td>8.4</td>\n",
       "    </tr>\n",
       "    <tr>\n",
       "      <td>9</td>\n",
       "      <td>钱包新客最高再减20元</td>\n",
       "      <td>1.1</td>\n",
       "    </tr>\n",
       "    <tr>\n",
       "      <td>10</td>\n",
       "      <td>有立减优惠</td>\n",
       "      <td>1.1</td>\n",
       "    </tr>\n",
       "    <tr>\n",
       "      <td>11</td>\n",
       "      <td>新城区</td>\n",
       "      <td>1.9</td>\n",
       "    </tr>\n",
       "    <tr>\n",
       "      <td>12</td>\n",
       "      <td>未央区</td>\n",
       "      <td>3.6</td>\n",
       "    </tr>\n",
       "    <tr>\n",
       "      <td>13</td>\n",
       "      <td>灞桥区</td>\n",
       "      <td>1.9</td>\n",
       "    </tr>\n",
       "    <tr>\n",
       "      <td>14</td>\n",
       "      <td>碑林区</td>\n",
       "      <td>3.0</td>\n",
       "    </tr>\n",
       "    <tr>\n",
       "      <td>15</td>\n",
       "      <td>莲湖区</td>\n",
       "      <td>2.9</td>\n",
       "    </tr>\n",
       "    <tr>\n",
       "      <td>16</td>\n",
       "      <td>长安区</td>\n",
       "      <td>2.3</td>\n",
       "    </tr>\n",
       "    <tr>\n",
       "      <td>17</td>\n",
       "      <td>阎良区</td>\n",
       "      <td>1.9</td>\n",
       "    </tr>\n",
       "    <tr>\n",
       "      <td>18</td>\n",
       "      <td>雁塔区</td>\n",
       "      <td>3.1</td>\n",
       "    </tr>\n",
       "    <tr>\n",
       "      <td>19</td>\n",
       "      <td>高新区</td>\n",
       "      <td>1.9</td>\n",
       "    </tr>\n",
       "    <tr>\n",
       "      <td>20</td>\n",
       "      <td>非周末法定节假日通用</td>\n",
       "      <td>1.2</td>\n",
       "    </tr>\n",
       "    <tr>\n",
       "      <td>21</td>\n",
       "      <td>需预约</td>\n",
       "      <td>1.2</td>\n",
       "    </tr>\n",
       "    <tr>\n",
       "      <td>22</td>\n",
       "      <td>未提及wifi</td>\n",
       "      <td>1.2</td>\n",
       "    </tr>\n",
       "    <tr>\n",
       "      <td>23</td>\n",
       "      <td>收费停车位</td>\n",
       "      <td>1.4</td>\n",
       "    </tr>\n",
       "    <tr>\n",
       "      <td>24</td>\n",
       "      <td>无停车位</td>\n",
       "      <td>1.9</td>\n",
       "    </tr>\n",
       "    <tr>\n",
       "      <td>25</td>\n",
       "      <td>未提及停车位</td>\n",
       "      <td>2.2</td>\n",
       "    </tr>\n",
       "    <tr>\n",
       "      <td>26</td>\n",
       "      <td>均可使用</td>\n",
       "      <td>1.1</td>\n",
       "    </tr>\n",
       "    <tr>\n",
       "      <td>27</td>\n",
       "      <td>未提及包间</td>\n",
       "      <td>2.2</td>\n",
       "    </tr>\n",
       "    <tr>\n",
       "      <td>28</td>\n",
       "      <td>限1人</td>\n",
       "      <td>8.9</td>\n",
       "    </tr>\n",
       "    <tr>\n",
       "      <td>29</td>\n",
       "      <td>限2-4人</td>\n",
       "      <td>6.7</td>\n",
       "    </tr>\n",
       "    <tr>\n",
       "      <td>30</td>\n",
       "      <td>限5-12人</td>\n",
       "      <td>2.6</td>\n",
       "    </tr>\n",
       "    <tr>\n",
       "      <td>31</td>\n",
       "      <td>限制张数</td>\n",
       "      <td>1.1</td>\n",
       "    </tr>\n",
       "    <tr>\n",
       "      <td>32</td>\n",
       "      <td>店名含地名</td>\n",
       "      <td>1.9</td>\n",
       "    </tr>\n",
       "    <tr>\n",
       "      <td>33</td>\n",
       "      <td>店名含食材</td>\n",
       "      <td>1.2</td>\n",
       "    </tr>\n",
       "    <tr>\n",
       "      <td>34</td>\n",
       "      <td>店名含口味</td>\n",
       "      <td>1.3</td>\n",
       "    </tr>\n",
       "    <tr>\n",
       "      <td>35</td>\n",
       "      <td>店名含烹饪方式</td>\n",
       "      <td>1.3</td>\n",
       "    </tr>\n",
       "    <tr>\n",
       "      <td>36</td>\n",
       "      <td>店名含人物</td>\n",
       "      <td>1.1</td>\n",
       "    </tr>\n",
       "    <tr>\n",
       "      <td>37</td>\n",
       "      <td>北系</td>\n",
       "      <td>1.5</td>\n",
       "    </tr>\n",
       "    <tr>\n",
       "      <td>38</td>\n",
       "      <td>川系</td>\n",
       "      <td>2.1</td>\n",
       "    </tr>\n",
       "    <tr>\n",
       "      <td>39</td>\n",
       "      <td>粤系</td>\n",
       "      <td>1.2</td>\n",
       "    </tr>\n",
       "  </tbody>\n",
       "</table>\n",
       "</div>"
      ],
      "text/plain": [
       "             feature   VIF\n",
       "0           discount   1.3\n",
       "1              price   8.6\n",
       "2      time.duration   1.1\n",
       "3                 评分   1.2\n",
       "4                评论数   1.1\n",
       "5    online.intervel   1.3\n",
       "6           HighFreq   1.5\n",
       "7         num_people  77.0\n",
       "8   price_per_person   8.4\n",
       "9        钱包新客最高再减20元   1.1\n",
       "10             有立减优惠   1.1\n",
       "11               新城区   1.9\n",
       "12               未央区   3.6\n",
       "13               灞桥区   1.9\n",
       "14               碑林区   3.0\n",
       "15               莲湖区   2.9\n",
       "16               长安区   2.3\n",
       "17               阎良区   1.9\n",
       "18               雁塔区   3.1\n",
       "19               高新区   1.9\n",
       "20        非周末法定节假日通用   1.2\n",
       "21               需预约   1.2\n",
       "22           未提及wifi   1.2\n",
       "23             收费停车位   1.4\n",
       "24              无停车位   1.9\n",
       "25            未提及停车位   2.2\n",
       "26              均可使用   1.1\n",
       "27             未提及包间   2.2\n",
       "28               限1人   8.9\n",
       "29             限2-4人   6.7\n",
       "30            限5-12人   2.6\n",
       "31              限制张数   1.1\n",
       "32             店名含地名   1.9\n",
       "33             店名含食材   1.2\n",
       "34             店名含口味   1.3\n",
       "35           店名含烹饪方式   1.3\n",
       "36             店名含人物   1.1\n",
       "37                北系   1.5\n",
       "38                川系   2.1\n",
       "39                粤系   1.2"
      ]
     },
     "execution_count": 653,
     "metadata": {},
     "output_type": "execute_result"
    }
   ],
   "source": [
    "# 计算 VIF\n",
    "from statsmodels.stats.outliers_influence import variance_inflation_factor\n",
    "vif = pd.DataFrame()\n",
    "vif['feature'] = train_data[rv_list].columns\n",
    "vif['VIF'] = [variance_inflation_factor(train_data[rv_list].values, i) for i in range(train_data[rv_list].shape[1])]\n",
    "vif.round(1)"
   ]
  },
  {
   "cell_type": "markdown",
   "metadata": {},
   "source": [
    "**去掉 VIF 值为 77 的num_people，重新回归。**"
   ]
  },
  {
   "cell_type": "code",
   "execution_count": 654,
   "metadata": {},
   "outputs": [
    {
     "name": "stdout",
     "output_type": "stream",
     "text": [
      "R2 on training set: 0.5078\n",
      "RMSE on training set: 2.3585\n",
      "R2 on testing set: 0.5071\n",
      "RMSE on testing set: 2.36\n"
     ]
    }
   ],
   "source": [
    "rv_list.remove('num_people')\n",
    "model_full = OLS(train_data['log_quarterly.sales.volume'], sm.add_constant(train_data[rv_list])).fit()\n",
    "# y_test_pred = model_full.predict(sm.add_constant(test_data[rv_list]))\n",
    "r2_train, rmse_train = cal_metrics(model_full, train_data)\n",
    "r2_test, rmse_test = cal_metrics(model_full, test_data)\n",
    "\n",
    "print('R2 on training set:', round(r2_train,4))\n",
    "print('RMSE on training set:', round(rmse_train,4))\n",
    "print('R2 on testing set:', round(r2_test,4))\n",
    "print('RMSE on testing set:', round(rmse_test,4))"
   ]
  },
  {
   "cell_type": "code",
   "execution_count": 655,
   "metadata": {
    "scrolled": true
   },
   "outputs": [
    {
     "data": {
      "text/html": [
       "<div>\n",
       "<style scoped>\n",
       "    .dataframe tbody tr th:only-of-type {\n",
       "        vertical-align: middle;\n",
       "    }\n",
       "\n",
       "    .dataframe tbody tr th {\n",
       "        vertical-align: top;\n",
       "    }\n",
       "\n",
       "    .dataframe thead th {\n",
       "        text-align: right;\n",
       "    }\n",
       "</style>\n",
       "<table border=\"1\" class=\"dataframe\">\n",
       "  <thead>\n",
       "    <tr style=\"text-align: right;\">\n",
       "      <th></th>\n",
       "      <th>feature</th>\n",
       "      <th>VIF</th>\n",
       "    </tr>\n",
       "  </thead>\n",
       "  <tbody>\n",
       "    <tr>\n",
       "      <td>0</td>\n",
       "      <td>discount</td>\n",
       "      <td>1.3</td>\n",
       "    </tr>\n",
       "    <tr>\n",
       "      <td>1</td>\n",
       "      <td>price</td>\n",
       "      <td>8.5</td>\n",
       "    </tr>\n",
       "    <tr>\n",
       "      <td>2</td>\n",
       "      <td>time.duration</td>\n",
       "      <td>1.1</td>\n",
       "    </tr>\n",
       "    <tr>\n",
       "      <td>3</td>\n",
       "      <td>评分</td>\n",
       "      <td>1.2</td>\n",
       "    </tr>\n",
       "    <tr>\n",
       "      <td>4</td>\n",
       "      <td>评论数</td>\n",
       "      <td>1.1</td>\n",
       "    </tr>\n",
       "    <tr>\n",
       "      <td>5</td>\n",
       "      <td>online.intervel</td>\n",
       "      <td>1.3</td>\n",
       "    </tr>\n",
       "    <tr>\n",
       "      <td>6</td>\n",
       "      <td>HighFreq</td>\n",
       "      <td>5.9</td>\n",
       "    </tr>\n",
       "    <tr>\n",
       "      <td>7</td>\n",
       "      <td>price_per_person</td>\n",
       "      <td>8.3</td>\n",
       "    </tr>\n",
       "    <tr>\n",
       "      <td>8</td>\n",
       "      <td>钱包新客最高再减20元</td>\n",
       "      <td>18.8</td>\n",
       "    </tr>\n",
       "    <tr>\n",
       "      <td>9</td>\n",
       "      <td>有立减优惠</td>\n",
       "      <td>1.1</td>\n",
       "    </tr>\n",
       "    <tr>\n",
       "      <td>10</td>\n",
       "      <td>新城区</td>\n",
       "      <td>1.9</td>\n",
       "    </tr>\n",
       "    <tr>\n",
       "      <td>11</td>\n",
       "      <td>未央区</td>\n",
       "      <td>3.8</td>\n",
       "    </tr>\n",
       "    <tr>\n",
       "      <td>12</td>\n",
       "      <td>灞桥区</td>\n",
       "      <td>1.8</td>\n",
       "    </tr>\n",
       "    <tr>\n",
       "      <td>13</td>\n",
       "      <td>碑林区</td>\n",
       "      <td>3.0</td>\n",
       "    </tr>\n",
       "    <tr>\n",
       "      <td>14</td>\n",
       "      <td>莲湖区</td>\n",
       "      <td>2.9</td>\n",
       "    </tr>\n",
       "    <tr>\n",
       "      <td>15</td>\n",
       "      <td>长安区</td>\n",
       "      <td>2.3</td>\n",
       "    </tr>\n",
       "    <tr>\n",
       "      <td>16</td>\n",
       "      <td>阎良区</td>\n",
       "      <td>1.7</td>\n",
       "    </tr>\n",
       "    <tr>\n",
       "      <td>17</td>\n",
       "      <td>雁塔区</td>\n",
       "      <td>3.2</td>\n",
       "    </tr>\n",
       "    <tr>\n",
       "      <td>18</td>\n",
       "      <td>高新区</td>\n",
       "      <td>1.8</td>\n",
       "    </tr>\n",
       "    <tr>\n",
       "      <td>19</td>\n",
       "      <td>非周末法定节假日通用</td>\n",
       "      <td>1.4</td>\n",
       "    </tr>\n",
       "    <tr>\n",
       "      <td>20</td>\n",
       "      <td>需预约</td>\n",
       "      <td>1.2</td>\n",
       "    </tr>\n",
       "    <tr>\n",
       "      <td>21</td>\n",
       "      <td>未提及wifi</td>\n",
       "      <td>1.6</td>\n",
       "    </tr>\n",
       "    <tr>\n",
       "      <td>22</td>\n",
       "      <td>收费停车位</td>\n",
       "      <td>1.5</td>\n",
       "    </tr>\n",
       "    <tr>\n",
       "      <td>23</td>\n",
       "      <td>无停车位</td>\n",
       "      <td>2.3</td>\n",
       "    </tr>\n",
       "    <tr>\n",
       "      <td>24</td>\n",
       "      <td>未提及停车位</td>\n",
       "      <td>4.5</td>\n",
       "    </tr>\n",
       "    <tr>\n",
       "      <td>25</td>\n",
       "      <td>均可使用</td>\n",
       "      <td>1.4</td>\n",
       "    </tr>\n",
       "    <tr>\n",
       "      <td>26</td>\n",
       "      <td>未提及包间</td>\n",
       "      <td>2.5</td>\n",
       "    </tr>\n",
       "    <tr>\n",
       "      <td>27</td>\n",
       "      <td>限1人</td>\n",
       "      <td>4.7</td>\n",
       "    </tr>\n",
       "    <tr>\n",
       "      <td>28</td>\n",
       "      <td>限2-4人</td>\n",
       "      <td>3.2</td>\n",
       "    </tr>\n",
       "    <tr>\n",
       "      <td>29</td>\n",
       "      <td>限5-12人</td>\n",
       "      <td>1.7</td>\n",
       "    </tr>\n",
       "    <tr>\n",
       "      <td>30</td>\n",
       "      <td>限制张数</td>\n",
       "      <td>1.3</td>\n",
       "    </tr>\n",
       "    <tr>\n",
       "      <td>31</td>\n",
       "      <td>店名含地名</td>\n",
       "      <td>2.3</td>\n",
       "    </tr>\n",
       "    <tr>\n",
       "      <td>32</td>\n",
       "      <td>店名含食材</td>\n",
       "      <td>1.8</td>\n",
       "    </tr>\n",
       "    <tr>\n",
       "      <td>33</td>\n",
       "      <td>店名含口味</td>\n",
       "      <td>1.6</td>\n",
       "    </tr>\n",
       "    <tr>\n",
       "      <td>34</td>\n",
       "      <td>店名含烹饪方式</td>\n",
       "      <td>1.6</td>\n",
       "    </tr>\n",
       "    <tr>\n",
       "      <td>35</td>\n",
       "      <td>店名含人物</td>\n",
       "      <td>1.2</td>\n",
       "    </tr>\n",
       "    <tr>\n",
       "      <td>36</td>\n",
       "      <td>北系</td>\n",
       "      <td>1.6</td>\n",
       "    </tr>\n",
       "    <tr>\n",
       "      <td>37</td>\n",
       "      <td>川系</td>\n",
       "      <td>3.0</td>\n",
       "    </tr>\n",
       "    <tr>\n",
       "      <td>38</td>\n",
       "      <td>粤系</td>\n",
       "      <td>1.2</td>\n",
       "    </tr>\n",
       "  </tbody>\n",
       "</table>\n",
       "</div>"
      ],
      "text/plain": [
       "             feature   VIF\n",
       "0           discount   1.3\n",
       "1              price   8.5\n",
       "2      time.duration   1.1\n",
       "3                 评分   1.2\n",
       "4                评论数   1.1\n",
       "5    online.intervel   1.3\n",
       "6           HighFreq   5.9\n",
       "7   price_per_person   8.3\n",
       "8        钱包新客最高再减20元  18.8\n",
       "9              有立减优惠   1.1\n",
       "10               新城区   1.9\n",
       "11               未央区   3.8\n",
       "12               灞桥区   1.8\n",
       "13               碑林区   3.0\n",
       "14               莲湖区   2.9\n",
       "15               长安区   2.3\n",
       "16               阎良区   1.7\n",
       "17               雁塔区   3.2\n",
       "18               高新区   1.8\n",
       "19        非周末法定节假日通用   1.4\n",
       "20               需预约   1.2\n",
       "21           未提及wifi   1.6\n",
       "22             收费停车位   1.5\n",
       "23              无停车位   2.3\n",
       "24            未提及停车位   4.5\n",
       "25              均可使用   1.4\n",
       "26             未提及包间   2.5\n",
       "27               限1人   4.7\n",
       "28             限2-4人   3.2\n",
       "29            限5-12人   1.7\n",
       "30              限制张数   1.3\n",
       "31             店名含地名   2.3\n",
       "32             店名含食材   1.8\n",
       "33             店名含口味   1.6\n",
       "34           店名含烹饪方式   1.6\n",
       "35             店名含人物   1.2\n",
       "36                北系   1.6\n",
       "37                川系   3.0\n",
       "38                粤系   1.2"
      ]
     },
     "execution_count": 655,
     "metadata": {},
     "output_type": "execute_result"
    }
   ],
   "source": [
    "# 再次计算 VIF\n",
    "vif = pd.DataFrame()\n",
    "vif['feature'] = train_data[rv_list].columns\n",
    "vif['VIF'] = [variance_inflation_factor(train_data[rv_list].values, i) for i in range(train_data[rv_list].shape[1])]\n",
    "vif.round(1)"
   ]
  },
  {
   "cell_type": "markdown",
   "metadata": {},
   "source": [
    "**去掉 VIF 为 18.8 的“钱包新客最高再减20元”，重新回归。此时VIF均处于10以下。**"
   ]
  },
  {
   "cell_type": "code",
   "execution_count": 656,
   "metadata": {
    "scrolled": true
   },
   "outputs": [
    {
     "name": "stdout",
     "output_type": "stream",
     "text": [
      "R2 on training set: 0.5034\n",
      "RMSE on training set: 2.38\n",
      "R2 on testing set: 0.4984\n",
      "RMSE on testing set: 2.4015\n"
     ]
    },
    {
     "data": {
      "text/html": [
       "<div>\n",
       "<style scoped>\n",
       "    .dataframe tbody tr th:only-of-type {\n",
       "        vertical-align: middle;\n",
       "    }\n",
       "\n",
       "    .dataframe tbody tr th {\n",
       "        vertical-align: top;\n",
       "    }\n",
       "\n",
       "    .dataframe thead th {\n",
       "        text-align: right;\n",
       "    }\n",
       "</style>\n",
       "<table border=\"1\" class=\"dataframe\">\n",
       "  <thead>\n",
       "    <tr style=\"text-align: right;\">\n",
       "      <th></th>\n",
       "      <th>feature</th>\n",
       "      <th>VIF</th>\n",
       "    </tr>\n",
       "  </thead>\n",
       "  <tbody>\n",
       "    <tr>\n",
       "      <td>0</td>\n",
       "      <td>discount</td>\n",
       "      <td>1.3</td>\n",
       "    </tr>\n",
       "    <tr>\n",
       "      <td>1</td>\n",
       "      <td>price</td>\n",
       "      <td>8.4</td>\n",
       "    </tr>\n",
       "    <tr>\n",
       "      <td>2</td>\n",
       "      <td>time.duration</td>\n",
       "      <td>1.0</td>\n",
       "    </tr>\n",
       "    <tr>\n",
       "      <td>3</td>\n",
       "      <td>评分</td>\n",
       "      <td>1.2</td>\n",
       "    </tr>\n",
       "    <tr>\n",
       "      <td>4</td>\n",
       "      <td>评论数</td>\n",
       "      <td>1.1</td>\n",
       "    </tr>\n",
       "    <tr>\n",
       "      <td>5</td>\n",
       "      <td>online.intervel</td>\n",
       "      <td>1.3</td>\n",
       "    </tr>\n",
       "    <tr>\n",
       "      <td>6</td>\n",
       "      <td>HighFreq</td>\n",
       "      <td>5.8</td>\n",
       "    </tr>\n",
       "    <tr>\n",
       "      <td>7</td>\n",
       "      <td>price_per_person</td>\n",
       "      <td>8.2</td>\n",
       "    </tr>\n",
       "    <tr>\n",
       "      <td>8</td>\n",
       "      <td>有立减优惠</td>\n",
       "      <td>1.1</td>\n",
       "    </tr>\n",
       "    <tr>\n",
       "      <td>9</td>\n",
       "      <td>新城区</td>\n",
       "      <td>1.5</td>\n",
       "    </tr>\n",
       "    <tr>\n",
       "      <td>10</td>\n",
       "      <td>未央区</td>\n",
       "      <td>2.6</td>\n",
       "    </tr>\n",
       "    <tr>\n",
       "      <td>11</td>\n",
       "      <td>灞桥区</td>\n",
       "      <td>1.4</td>\n",
       "    </tr>\n",
       "    <tr>\n",
       "      <td>12</td>\n",
       "      <td>碑林区</td>\n",
       "      <td>2.1</td>\n",
       "    </tr>\n",
       "    <tr>\n",
       "      <td>13</td>\n",
       "      <td>莲湖区</td>\n",
       "      <td>1.9</td>\n",
       "    </tr>\n",
       "    <tr>\n",
       "      <td>14</td>\n",
       "      <td>长安区</td>\n",
       "      <td>1.7</td>\n",
       "    </tr>\n",
       "    <tr>\n",
       "      <td>15</td>\n",
       "      <td>阎良区</td>\n",
       "      <td>1.3</td>\n",
       "    </tr>\n",
       "    <tr>\n",
       "      <td>16</td>\n",
       "      <td>雁塔区</td>\n",
       "      <td>2.3</td>\n",
       "    </tr>\n",
       "    <tr>\n",
       "      <td>17</td>\n",
       "      <td>高新区</td>\n",
       "      <td>1.5</td>\n",
       "    </tr>\n",
       "    <tr>\n",
       "      <td>18</td>\n",
       "      <td>非周末法定节假日通用</td>\n",
       "      <td>1.4</td>\n",
       "    </tr>\n",
       "    <tr>\n",
       "      <td>19</td>\n",
       "      <td>需预约</td>\n",
       "      <td>1.2</td>\n",
       "    </tr>\n",
       "    <tr>\n",
       "      <td>20</td>\n",
       "      <td>未提及wifi</td>\n",
       "      <td>1.6</td>\n",
       "    </tr>\n",
       "    <tr>\n",
       "      <td>21</td>\n",
       "      <td>收费停车位</td>\n",
       "      <td>1.5</td>\n",
       "    </tr>\n",
       "    <tr>\n",
       "      <td>22</td>\n",
       "      <td>无停车位</td>\n",
       "      <td>2.2</td>\n",
       "    </tr>\n",
       "    <tr>\n",
       "      <td>23</td>\n",
       "      <td>未提及停车位</td>\n",
       "      <td>3.9</td>\n",
       "    </tr>\n",
       "    <tr>\n",
       "      <td>24</td>\n",
       "      <td>均可使用</td>\n",
       "      <td>1.3</td>\n",
       "    </tr>\n",
       "    <tr>\n",
       "      <td>25</td>\n",
       "      <td>未提及包间</td>\n",
       "      <td>2.5</td>\n",
       "    </tr>\n",
       "    <tr>\n",
       "      <td>26</td>\n",
       "      <td>限1人</td>\n",
       "      <td>4.7</td>\n",
       "    </tr>\n",
       "    <tr>\n",
       "      <td>27</td>\n",
       "      <td>限2-4人</td>\n",
       "      <td>3.1</td>\n",
       "    </tr>\n",
       "    <tr>\n",
       "      <td>28</td>\n",
       "      <td>限5-12人</td>\n",
       "      <td>1.7</td>\n",
       "    </tr>\n",
       "    <tr>\n",
       "      <td>29</td>\n",
       "      <td>限制张数</td>\n",
       "      <td>1.3</td>\n",
       "    </tr>\n",
       "    <tr>\n",
       "      <td>30</td>\n",
       "      <td>店名含地名</td>\n",
       "      <td>2.3</td>\n",
       "    </tr>\n",
       "    <tr>\n",
       "      <td>31</td>\n",
       "      <td>店名含食材</td>\n",
       "      <td>1.8</td>\n",
       "    </tr>\n",
       "    <tr>\n",
       "      <td>32</td>\n",
       "      <td>店名含口味</td>\n",
       "      <td>1.6</td>\n",
       "    </tr>\n",
       "    <tr>\n",
       "      <td>33</td>\n",
       "      <td>店名含烹饪方式</td>\n",
       "      <td>1.6</td>\n",
       "    </tr>\n",
       "    <tr>\n",
       "      <td>34</td>\n",
       "      <td>店名含人物</td>\n",
       "      <td>1.2</td>\n",
       "    </tr>\n",
       "    <tr>\n",
       "      <td>35</td>\n",
       "      <td>北系</td>\n",
       "      <td>1.6</td>\n",
       "    </tr>\n",
       "    <tr>\n",
       "      <td>36</td>\n",
       "      <td>川系</td>\n",
       "      <td>3.0</td>\n",
       "    </tr>\n",
       "    <tr>\n",
       "      <td>37</td>\n",
       "      <td>粤系</td>\n",
       "      <td>1.2</td>\n",
       "    </tr>\n",
       "  </tbody>\n",
       "</table>\n",
       "</div>"
      ],
      "text/plain": [
       "             feature  VIF\n",
       "0           discount  1.3\n",
       "1              price  8.4\n",
       "2      time.duration  1.0\n",
       "3                 评分  1.2\n",
       "4                评论数  1.1\n",
       "5    online.intervel  1.3\n",
       "6           HighFreq  5.8\n",
       "7   price_per_person  8.2\n",
       "8              有立减优惠  1.1\n",
       "9                新城区  1.5\n",
       "10               未央区  2.6\n",
       "11               灞桥区  1.4\n",
       "12               碑林区  2.1\n",
       "13               莲湖区  1.9\n",
       "14               长安区  1.7\n",
       "15               阎良区  1.3\n",
       "16               雁塔区  2.3\n",
       "17               高新区  1.5\n",
       "18        非周末法定节假日通用  1.4\n",
       "19               需预约  1.2\n",
       "20           未提及wifi  1.6\n",
       "21             收费停车位  1.5\n",
       "22              无停车位  2.2\n",
       "23            未提及停车位  3.9\n",
       "24              均可使用  1.3\n",
       "25             未提及包间  2.5\n",
       "26               限1人  4.7\n",
       "27             限2-4人  3.1\n",
       "28            限5-12人  1.7\n",
       "29              限制张数  1.3\n",
       "30             店名含地名  2.3\n",
       "31             店名含食材  1.8\n",
       "32             店名含口味  1.6\n",
       "33           店名含烹饪方式  1.6\n",
       "34             店名含人物  1.2\n",
       "35                北系  1.6\n",
       "36                川系  3.0\n",
       "37                粤系  1.2"
      ]
     },
     "execution_count": 656,
     "metadata": {},
     "output_type": "execute_result"
    }
   ],
   "source": [
    "rv_list.remove('钱包新客最高再减20元')\n",
    "model_full = OLS(train_data['log_quarterly.sales.volume'], sm.add_constant(train_data[rv_list])).fit()\n",
    "# y_test_pred = model_full.predict(sm.add_constant(test_data[rv_list]))\n",
    "r2_train, rmse_train = cal_metrics(model_full, train_data)\n",
    "r2_test, rmse_test = cal_metrics(model_full, test_data)\n",
    "\n",
    "print('R2 on training set:', round(r2_train,4))\n",
    "print('RMSE on training set:', round(rmse_train,4))\n",
    "print('R2 on testing set:', round(r2_test,4))\n",
    "print('RMSE on testing set:', round(rmse_test,4))\n",
    "\n",
    "vif = pd.DataFrame()\n",
    "vif['feature'] = train_data[rv_list].columns\n",
    "vif['VIF'] = [variance_inflation_factor(train_data[rv_list].values, i) for i in range(train_data[rv_list].shape[1])]\n",
    "vif.round(1)"
   ]
  },
  {
   "cell_type": "code",
   "execution_count": 657,
   "metadata": {
    "scrolled": false
   },
   "outputs": [
    {
     "name": "stdout",
     "output_type": "stream",
     "text": [
      "                                OLS Regression Results                                \n",
      "======================================================================================\n",
      "Dep. Variable:     log_quarterly.sales.volume   R-squared:                       0.503\n",
      "Model:                                    OLS   Adj. R-squared:                  0.493\n",
      "Method:                         Least Squares   F-statistic:                     49.16\n",
      "Date:                        Mon, 13 Apr 2020   Prob (F-statistic):          1.49e-248\n",
      "Time:                                18:03:24   Log-Likelihood:                -3486.4\n",
      "No. Observations:                        1882   AIC:                             7051.\n",
      "Df Residuals:                            1843   BIC:                             7267.\n",
      "Df Model:                                  38                                         \n",
      "Covariance Type:                    nonrobust                                         \n",
      "====================================================================================\n",
      "                       coef    std err          t      P>|t|      [0.025      0.975]\n",
      "------------------------------------------------------------------------------------\n",
      "const                1.7915      0.189      9.491      0.000       1.421       2.162\n",
      "discount            -0.0015      0.041     -0.037      0.970      -0.081       0.078\n",
      "price                0.0674      0.103      0.654      0.513      -0.135       0.270\n",
      "time.duration        0.0005      0.038      0.014      0.989      -0.074       0.075\n",
      "评分                   1.1005      0.038     28.586      0.000       1.025       1.176\n",
      "评论数                  0.7032      0.043     16.321      0.000       0.619       0.788\n",
      "online.intervel     -0.5187      0.042    -12.481      0.000      -0.600      -0.437\n",
      "HighFreq             0.0158      0.040      0.394      0.694      -0.063       0.094\n",
      "price_per_person    -0.2153      0.103     -2.088      0.037      -0.418      -0.013\n",
      "有立减优惠                0.1087      0.173      0.628      0.530      -0.231       0.448\n",
      "新城区                  0.6379      0.211      3.028      0.002       0.225       1.051\n",
      "未央区                  0.4371      0.170      2.572      0.010       0.104       0.770\n",
      "灞桥区                  0.2551      0.214      1.189      0.234      -0.165       0.676\n",
      "碑林区                  0.9944      0.179      5.546      0.000       0.643       1.346\n",
      "莲湖区                  0.5959      0.180      3.312      0.001       0.243       0.949\n",
      "长安区                  0.4254      0.192      2.215      0.027       0.049       0.802\n",
      "阎良区                  1.3460      0.232      5.801      0.000       0.891       1.801\n",
      "雁塔区                  0.7884      0.173      4.551      0.000       0.449       1.128\n",
      "高新区                  0.4358      0.216      2.020      0.043       0.013       0.859\n",
      "非周末法定节假日通用           0.7358      0.109      6.740      0.000       0.522       0.950\n",
      "需预约                 -0.2677      0.144     -1.864      0.063      -0.549       0.014\n",
      "未提及wifi             -0.5654      0.095     -5.952      0.000      -0.752      -0.379\n",
      "收费停车位               -0.3124      0.167     -1.866      0.062      -0.641       0.016\n",
      "无停车位                -0.1827      0.121     -1.509      0.131      -0.420       0.055\n",
      "未提及停车位               0.1540      0.108      1.430      0.153      -0.057       0.365\n",
      "均可使用                 0.0205      0.097      0.212      0.832      -0.170       0.211\n",
      "未提及包间                0.2905      0.183      1.588      0.112      -0.068       0.649\n",
      "限1人                  0.9199      0.273      3.367      0.001       0.384       1.456\n",
      "限2-4人               -0.0894      0.147     -0.608      0.543      -0.378       0.199\n",
      "限5-12人              -0.8092      0.150     -5.398      0.000      -1.103      -0.515\n",
      "限制张数                 0.1164      0.103      1.129      0.259      -0.086       0.318\n",
      "店名含地名                0.1823      0.121      1.512      0.131      -0.054       0.419\n",
      "店名含食材                0.1808      0.085      2.120      0.034       0.014       0.348\n",
      "店名含口味                0.2219      0.101      2.187      0.029       0.023       0.421\n",
      "店名含烹饪方式             -0.0471      0.104     -0.455      0.649      -0.250       0.156\n",
      "店名含人物                0.1180      0.150      0.788      0.431      -0.176       0.412\n",
      "北系                  -0.4753      0.202     -2.354      0.019      -0.871      -0.079\n",
      "川系                  -0.2300      0.110     -2.089      0.037      -0.446      -0.014\n",
      "粤系                  -1.0626      0.249     -4.260      0.000      -1.552      -0.573\n",
      "==============================================================================\n",
      "Omnibus:                      106.218   Durbin-Watson:                   1.973\n",
      "Prob(Omnibus):                  0.000   Jarque-Bera (JB):              350.345\n",
      "Skew:                           0.196   Prob(JB):                     8.39e-77\n",
      "Kurtosis:                       5.077   Cond. No.                         34.7\n",
      "==============================================================================\n",
      "\n",
      "Warnings:\n",
      "[1] Standard Errors assume that the covariance matrix of the errors is correctly specified.\n"
     ]
    }
   ],
   "source": [
    "print(model_full.summary())"
   ]
  },
  {
   "cell_type": "markdown",
   "metadata": {},
   "source": [
    "**参数分析：**\n",
    "* **在0.05的置信水平下，连续型变量中，评分、评论数对团购产品销量有显著正相关关系，表明评分高的产品更受欢迎，而评论数天然就是销量的另一个表现；而在线天数、人均价格对团购产品销量有显著负面关系，人均价格越高、能承受的消费者便越少，而店家在线天数对季均销量的负面影响主要体现于季均销量的计算方式为“累计销量/团购在线天数×90”，天然具有负向关系。**\n",
    "* **在0.05的置信水平下，以下类别变量的不同取值会对销量造成显著影响：**\n",
    "    * **店面的地理位置：在各个行政区中，阎良区的店销量最高，碑林区次之，临潼区的店销量最低。**\n",
    "    * **非周末法定节假日通用的产品销量显著高于周末法定节假日通用的产品。**\n",
    "    * **描述中未提及wifi会使销量显著下降。** \n",
    "    * **仅限1人使用的产品销量显著高于其他人数，限5-12人使用的产品销量最低，体现了“一人食”的火锅的增长潜力。**\n",
    "    * **店名包含食材和口味都显著增加了销量，或许是这样的店名能更直观清晰地表达产品定位、吸引消费者眼球、或是更能激起消费者食欲。**\n",
    "    * **不同的菜系产品销量显著不同，销量最高的种类为不属于北、川、粤三系的其他综合性类别，北、川、粤三系中粤系销量最低，川系销量最高。**"
   ]
  },
  {
   "cell_type": "markdown",
   "metadata": {},
   "source": [
    "**正则化采用elastic_net，具体形式为最小化以下损失函数：**  \n",
    "\n",
    "**$LOSS = 0.5 * R S S / n+$ alpha $*\\left(\\left(1-L 1_{-} w t\\right) * | \\text { params }\\left.\\right|_{2} ^{2} / 2+L 1_{-} w t * | \\text { params }\\left.\\right|_{1}\\right)$**"
   ]
  },
  {
   "cell_type": "code",
   "execution_count": 658,
   "metadata": {
    "scrolled": true
   },
   "outputs": [
    {
     "name": "stdout",
     "output_type": "stream",
     "text": [
      "R2 on training set: 0.4919\n",
      "RMSE on training set: 2.4349\n",
      "R2 on testing set: 0.4942\n",
      "RMSE on testing set: 2.4216\n"
     ]
    }
   ],
   "source": [
    "model_L1 = OLS(train_data['log_quarterly.sales.volume'], sm.add_constant(train_data[rv_list])).fit_regularized(alpha=0.01)\n",
    "# y_test_pred = model_L1.predict(sm.add_constant(test_data[rv_list]))\n",
    "r2_train, rmse_train = cal_metrics(model_L1, train_data)\n",
    "r2_test, rmse_test = cal_metrics(model_L1, test_data)\n",
    "\n",
    "print('R2 on training set:', round(r2_train,4))\n",
    "print('RMSE on training set:', round(rmse_train,4))\n",
    "print('R2 on testing set:', round(r2_test,4))\n",
    "print('RMSE on testing set:', round(rmse_test,4))"
   ]
  },
  {
   "cell_type": "markdown",
   "metadata": {},
   "source": [
    "**在未正则化之前，可以看到训练集与测试集的结果相近，即不存在过拟合。当加入正则化力度后，模型拟合能力下降，也再次证实了无须正则化。**"
   ]
  }
 ],
 "metadata": {
  "kernelspec": {
   "display_name": "Python 3",
   "language": "python",
   "name": "python3"
  },
  "language_info": {
   "codemirror_mode": {
    "name": "ipython",
    "version": 3
   },
   "file_extension": ".py",
   "mimetype": "text/x-python",
   "name": "python",
   "nbconvert_exporter": "python",
   "pygments_lexer": "ipython3",
   "version": "3.7.4"
  }
 },
 "nbformat": 4,
 "nbformat_minor": 2
}
